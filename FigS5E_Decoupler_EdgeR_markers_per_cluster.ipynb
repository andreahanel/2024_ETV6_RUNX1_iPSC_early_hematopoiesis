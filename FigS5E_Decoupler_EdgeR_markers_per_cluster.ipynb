{
 "cells": [
  {
   "cell_type": "markdown",
   "id": "312018f2-98b6-4c3c-bcca-4f6bfdfd4c4b",
   "metadata": {},
   "source": [
    "Andrea Hanel 2024"
   ]
  },
  {
   "cell_type": "markdown",
   "id": "e78e52e3-0723-47af-b002-a32b29669c22",
   "metadata": {},
   "source": [
    "# Fig. S 5E"
   ]
  },
  {
   "cell_type": "markdown",
   "id": "ec148182-70eb-4a52-8d7a-2ba975854626",
   "metadata": {},
   "source": [
    "- creating pseudobulk profiles (aggregating counts per cluster) using Decoupler\n",
    "- finding marker genes per cluster with EdgeR (pseudobulk level) folling their UsersGuide example"
   ]
  },
  {
   "cell_type": "code",
   "execution_count": 1,
   "id": "c8b1447f-a821-4e36-a4f7-ab7265e43097",
   "metadata": {},
   "outputs": [
    {
     "name": "stdout",
     "output_type": "stream",
     "text": [
      "Conda Environment: tired_like_a_kitten\n",
      "Date: 2024-11-27\n"
     ]
    }
   ],
   "source": [
    "import decoupler as dc\n",
    "import scanpy as sc\n",
    "\n",
    "!echo \"Conda Environment: $CONDA_DEFAULT_ENV\"\n",
    "from datetime import datetime\n",
    "print(f\"Date: {datetime.now():%Y-%m-%d}\")"
   ]
  },
  {
   "cell_type": "code",
   "execution_count": 2,
   "id": "cd648a9a-6868-42af-80a0-94b320e0493e",
   "metadata": {},
   "outputs": [],
   "source": [
    "adata = sc.read_h5ad (\"/research/groups/sysgen/PROJECTS/sysgen_team/andrea_work/2023_Fischer_iPSC/revision_final/data/adata2_PCAharmony_leiden_LS.h5ad\")\n"
   ]
  },
  {
   "cell_type": "code",
   "execution_count": 3,
   "id": "7d634772-12b9-4b50-8c23-dd755cea30dd",
   "metadata": {},
   "outputs": [
    {
     "name": "stdout",
     "output_type": "stream",
     "text": [
      "-----\n",
      "anndata     0.10.7\n",
      "scanpy      1.10.1\n",
      "-----\n",
      "PIL                         10.3.0\n",
      "anyio                       NA\n",
      "argcomplete                 NA\n",
      "arrow                       1.3.0\n",
      "asttokens                   NA\n",
      "attr                        24.2.0\n",
      "attrs                       24.2.0\n",
      "babel                       2.16.0\n",
      "brotli                      1.1.0\n",
      "certifi                     2024.08.30\n",
      "cffi                        1.16.0\n",
      "charset_normalizer          3.3.2\n",
      "colorama                    0.4.6\n",
      "comm                        0.2.2\n",
      "cycler                      0.12.1\n",
      "cython_runtime              NA\n",
      "dateutil                    2.9.0.post0\n",
      "debugpy                     1.8.5\n",
      "decorator                   5.1.1\n",
      "decoupler                   1.7.0\n",
      "defusedxml                  0.7.1\n",
      "exceptiongroup              1.2.2\n",
      "executing                   2.1.0\n",
      "fastjsonschema              NA\n",
      "fqdn                        NA\n",
      "gmpy2                       2.1.5\n",
      "google                      NA\n",
      "h5py                        3.11.0\n",
      "idna                        3.7\n",
      "igraph                      0.11.5\n",
      "importlib_resources         NA\n",
      "ipykernel                   6.29.5\n",
      "isoduration                 NA\n",
      "jedi                        0.19.1\n",
      "jinja2                      3.1.4\n",
      "joblib                      1.4.2\n",
      "json5                       0.9.25\n",
      "jsonpointer                 3.0.0\n",
      "jsonschema                  4.23.0\n",
      "jsonschema_specifications   NA\n",
      "jupyter_events              0.10.0\n",
      "jupyter_server              2.14.2\n",
      "jupyterlab_server           2.27.3\n",
      "kiwisolver                  1.4.5\n",
      "legacy_api_wrap             NA\n",
      "leidenalg                   0.10.2\n",
      "llvmlite                    0.43.0\n",
      "markupsafe                  2.1.5\n",
      "matplotlib                  3.8.4\n",
      "mpl_toolkits                NA\n",
      "mpmath                      1.3.0\n",
      "natsort                     8.4.0\n",
      "nbformat                    5.10.4\n",
      "numba                       0.60.0\n",
      "numpy                       1.26.4\n",
      "overrides                   NA\n",
      "packaging                   24.1\n",
      "pandas                      2.2.3\n",
      "parso                       0.8.4\n",
      "pexpect                     4.9.0\n",
      "platformdirs                4.3.3\n",
      "prometheus_client           NA\n",
      "prompt_toolkit              3.0.43\n",
      "psutil                      6.0.0\n",
      "ptyprocess                  0.7.0\n",
      "pure_eval                   0.2.3\n",
      "pycparser                   2.22\n",
      "pydev_ipython               NA\n",
      "pydevconsole                NA\n",
      "pydevd                      2.9.5\n",
      "pydevd_file_utils           NA\n",
      "pydevd_plugins              NA\n",
      "pydevd_tracing              NA\n",
      "pydot                       3.0.1\n",
      "pygments                    2.18.0\n",
      "pyparsing                   3.1.2\n",
      "pythonjsonlogger            NA\n",
      "pytz                        2024.2\n",
      "referencing                 NA\n",
      "requests                    2.31.0\n",
      "rfc3339_validator           0.1.4\n",
      "rfc3986_validator           0.1.1\n",
      "rpds                        NA\n",
      "scipy                       1.11.4\n",
      "send2trash                  NA\n",
      "session_info                1.0.0\n",
      "six                         1.16.0\n",
      "sklearn                     1.1.3\n",
      "sniffio                     1.3.1\n",
      "socks                       1.7.1\n",
      "sparse                      0.15.1\n",
      "stack_data                  0.6.3\n",
      "sympy                       1.12\n",
      "texttable                   1.7.0\n",
      "threadpoolctl               3.5.0\n",
      "torch                       2.1.2.post3\n",
      "torchgen                    NA\n",
      "tornado                     6.4.1\n",
      "tqdm                        4.66.4\n",
      "traitlets                   5.14.3\n",
      "typing_extensions           NA\n",
      "uri_template                NA\n",
      "urllib3                     2.2.1\n",
      "wcwidth                     0.2.13\n",
      "webcolors                   24.8.0\n",
      "websocket                   1.8.0\n",
      "yaml                        6.0.1\n",
      "zipp                        NA\n",
      "zmq                         26.2.0\n",
      "zoneinfo                    NA\n",
      "-----\n",
      "IPython             8.18.1\n",
      "jupyter_client      8.6.2\n",
      "jupyter_core        5.7.2\n",
      "jupyterlab          4.0.13\n",
      "-----\n",
      "Python 3.9.19 | packaged by conda-forge | (main, Mar 20 2024, 12:50:21) [GCC 12.3.0]\n",
      "Linux-5.14.0-427.40.1.el9_4.x86_64-x86_64-with-glibc2.34\n",
      "-----\n",
      "Session information updated at 2024-11-27 19:15\n"
     ]
    }
   ],
   "source": [
    "sc.settings.verbosity = 1  # verbosity: errors (0), warnings (1), info (2), hints (3)\n",
    "sc.logging.print_versions()"
   ]
  },
  {
   "cell_type": "code",
   "execution_count": 4,
   "id": "1aa929f9-27f3-42e1-8b04-4910df261b31",
   "metadata": {},
   "outputs": [],
   "source": [
    "adata.X = adata.layers[\"raw_counts\"]"
   ]
  },
  {
   "cell_type": "code",
   "execution_count": 5,
   "id": "876c7e8c-71ea-40e4-9835-7c2d947b2b6f",
   "metadata": {},
   "outputs": [],
   "source": [
    "pdata = dc.get_pseudobulk(\n",
    "        adata,\n",
    "        sample_col='sample',\n",
    "        groups_col='leiden_res0_25',\n",
    "        mode='sum',\n",
    "        min_cells=0,\n",
    "        min_counts=0,\n",
    "        skip_checks=True  # True - Allow raw counts with decimals\n",
    "    )"
   ]
  },
  {
   "cell_type": "code",
   "execution_count": 6,
   "id": "6bd64448-a849-4db8-9e9b-8a8866ca24a3",
   "metadata": {},
   "outputs": [],
   "source": [
    "pdata.write (\"/research/groups/sysgen/PROJECTS/sysgen_team/andrea_work/2023_Fischer_iPSC/revision_final/data/adata2_leiden_FS_pbulk.h5ad\")\n"
   ]
  },
  {
   "cell_type": "code",
   "execution_count": 1,
   "id": "5e7d3a29-952e-4844-8615-6e652dbe77b3",
   "metadata": {},
   "outputs": [
    {
     "name": "stderr",
     "output_type": "stream",
     "text": [
      "── \u001b[1mAttaching core tidyverse packages\u001b[22m ──────────────────────── tidyverse 2.0.0 ──\n",
      "\u001b[32m✔\u001b[39m \u001b[34mdplyr    \u001b[39m 1.1.4     \u001b[32m✔\u001b[39m \u001b[34mreadr    \u001b[39m 2.1.5\n",
      "\u001b[32m✔\u001b[39m \u001b[34mforcats  \u001b[39m 1.0.0     \u001b[32m✔\u001b[39m \u001b[34mstringr  \u001b[39m 1.5.1\n",
      "\u001b[32m✔\u001b[39m \u001b[34mggplot2  \u001b[39m 3.5.1     \u001b[32m✔\u001b[39m \u001b[34mtibble   \u001b[39m 3.2.1\n",
      "\u001b[32m✔\u001b[39m \u001b[34mlubridate\u001b[39m 1.9.3     \u001b[32m✔\u001b[39m \u001b[34mtidyr    \u001b[39m 1.3.1\n",
      "\u001b[32m✔\u001b[39m \u001b[34mpurrr    \u001b[39m 1.0.2     \n",
      "── \u001b[1mConflicts\u001b[22m ────────────────────────────────────────── tidyverse_conflicts() ──\n",
      "\u001b[31m✖\u001b[39m \u001b[34mdplyr\u001b[39m::\u001b[32mfilter()\u001b[39m masks \u001b[34mstats\u001b[39m::filter()\n",
      "\u001b[31m✖\u001b[39m \u001b[34mdplyr\u001b[39m::\u001b[32mlag()\u001b[39m    masks \u001b[34mstats\u001b[39m::lag()\n",
      "\u001b[36mℹ\u001b[39m Use the conflicted package (\u001b[3m\u001b[34m<http://conflicted.r-lib.org/>\u001b[39m\u001b[23m) to force all conflicts to become errors\n",
      "\n",
      "Attaching package: ‘data.table’\n",
      "\n",
      "\n",
      "The following objects are masked from ‘package:lubridate’:\n",
      "\n",
      "    hour, isoweek, mday, minute, month, quarter, second, wday, week,\n",
      "    yday, year\n",
      "\n",
      "\n",
      "The following objects are masked from ‘package:dplyr’:\n",
      "\n",
      "    between, first, last\n",
      "\n",
      "\n",
      "The following object is masked from ‘package:purrr’:\n",
      "\n",
      "    transpose\n",
      "\n",
      "\n",
      "\n",
      "Attaching package: ‘matrixStats’\n",
      "\n",
      "\n",
      "The following object is masked from ‘package:dplyr’:\n",
      "\n",
      "    count\n",
      "\n",
      "\n",
      "\n",
      "Attaching package: ‘anndata’\n",
      "\n",
      "\n",
      "The following object is masked from ‘package:readr’:\n",
      "\n",
      "    read_csv\n",
      "\n",
      "\n",
      "Loading required package: limma\n",
      "\n",
      "\n",
      "Attaching package: ‘scales’\n",
      "\n",
      "\n",
      "The following object is masked from ‘package:purrr’:\n",
      "\n",
      "    discard\n",
      "\n",
      "\n",
      "The following object is masked from ‘package:readr’:\n",
      "\n",
      "    col_factor\n",
      "\n",
      "\n"
     ]
    }
   ],
   "source": [
    "library(tidyverse)\n",
    "library(data.table)\n",
    "library(matrixStats)\n",
    "library(ggplot2)\n",
    "library(anndata)\n",
    "library(edgeR)\n",
    "library(scales)\n",
    "library(knitr)\n",
    "\n",
    "#to be able to adjust figs\n",
    "fig <- function(width, heigth){\n",
    "options(repr.plot.width = width, repr.plot.height = heigth) }"
   ]
  },
  {
   "cell_type": "code",
   "execution_count": 2,
   "id": "95d5be73-d799-4369-bcc0-fa9f17f7db25",
   "metadata": {},
   "outputs": [],
   "source": [
    "ad = read_h5ad(\"/research/groups/sysgen/PROJECTS/sysgen_team/andrea_work/2023_Fischer_iPSC/revision_final/data/adata2_leiden_FS_pbulk.h5ad\")\n"
   ]
  },
  {
   "cell_type": "code",
   "execution_count": 3,
   "id": "43fc683d-2b0d-417a-8a4f-dde52decb9e0",
   "metadata": {},
   "outputs": [
    {
     "data": {
      "text/html": [
       "<table class=\"dataframe\">\n",
       "<caption>A matrix: 2 × 24 of type dbl</caption>\n",
       "<thead>\n",
       "\t<tr><th></th><th scope=col>ChiPSC12_ETV6_RUNX1_KI_0</th><th scope=col>ChiPSC12_WT_0</th><th scope=col>HW8_ETV6_RUNX1_KI_0</th><th scope=col>HW8_WT_0</th><th scope=col>ChiPSC12_ETV6_RUNX1_KI_1</th><th scope=col>ChiPSC12_WT_1</th><th scope=col>HW8_ETV6_RUNX1_KI_1</th><th scope=col>HW8_WT_1</th><th scope=col>ChiPSC12_ETV6_RUNX1_KI_2</th><th scope=col>ChiPSC12_WT_2</th><th scope=col>⋯</th><th scope=col>HW8_ETV6_RUNX1_KI_3</th><th scope=col>HW8_WT_3</th><th scope=col>ChiPSC12_ETV6_RUNX1_KI_4</th><th scope=col>ChiPSC12_WT_4</th><th scope=col>HW8_ETV6_RUNX1_KI_4</th><th scope=col>HW8_WT_4</th><th scope=col>ChiPSC12_ETV6_RUNX1_KI_5</th><th scope=col>ChiPSC12_WT_5</th><th scope=col>HW8_ETV6_RUNX1_KI_5</th><th scope=col>HW8_WT_5</th></tr>\n",
       "</thead>\n",
       "<tbody>\n",
       "\t<tr><th scope=row>A1BG</th><td>2993</td><td>1477</td><td>1863</td><td>1929</td><td>262</td><td>1041</td><td>326</td><td>884</td><td>836</td><td>243</td><td>⋯</td><td>1321</td><td>455</td><td>712</td><td>45</td><td>648</td><td>33</td><td>171</td><td>45</td><td>235</td><td>30</td></tr>\n",
       "\t<tr><th scope=row>A1BG-AS1</th><td> 482</td><td> 216</td><td> 237</td><td> 244</td><td> 58</td><td> 264</td><td> 57</td><td>206</td><td>132</td><td> 28</td><td>⋯</td><td> 167</td><td> 76</td><td>154</td><td> 5</td><td> 97</td><td> 7</td><td> 39</td><td> 4</td><td> 22</td><td>11</td></tr>\n",
       "</tbody>\n",
       "</table>\n"
      ],
      "text/latex": [
       "A matrix: 2 × 24 of type dbl\n",
       "\\begin{tabular}{r|lllllllllllllllllllll}\n",
       "  & ChiPSC12\\_ETV6\\_RUNX1\\_KI\\_0 & ChiPSC12\\_WT\\_0 & HW8\\_ETV6\\_RUNX1\\_KI\\_0 & HW8\\_WT\\_0 & ChiPSC12\\_ETV6\\_RUNX1\\_KI\\_1 & ChiPSC12\\_WT\\_1 & HW8\\_ETV6\\_RUNX1\\_KI\\_1 & HW8\\_WT\\_1 & ChiPSC12\\_ETV6\\_RUNX1\\_KI\\_2 & ChiPSC12\\_WT\\_2 & ⋯ & HW8\\_ETV6\\_RUNX1\\_KI\\_3 & HW8\\_WT\\_3 & ChiPSC12\\_ETV6\\_RUNX1\\_KI\\_4 & ChiPSC12\\_WT\\_4 & HW8\\_ETV6\\_RUNX1\\_KI\\_4 & HW8\\_WT\\_4 & ChiPSC12\\_ETV6\\_RUNX1\\_KI\\_5 & ChiPSC12\\_WT\\_5 & HW8\\_ETV6\\_RUNX1\\_KI\\_5 & HW8\\_WT\\_5\\\\\n",
       "\\hline\n",
       "\tA1BG & 2993 & 1477 & 1863 & 1929 & 262 & 1041 & 326 & 884 & 836 & 243 & ⋯ & 1321 & 455 & 712 & 45 & 648 & 33 & 171 & 45 & 235 & 30\\\\\n",
       "\tA1BG-AS1 &  482 &  216 &  237 &  244 &  58 &  264 &  57 & 206 & 132 &  28 & ⋯ &  167 &  76 & 154 &  5 &  97 &  7 &  39 &  4 &  22 & 11\\\\\n",
       "\\end{tabular}\n"
      ],
      "text/markdown": [
       "\n",
       "A matrix: 2 × 24 of type dbl\n",
       "\n",
       "| <!--/--> | ChiPSC12_ETV6_RUNX1_KI_0 | ChiPSC12_WT_0 | HW8_ETV6_RUNX1_KI_0 | HW8_WT_0 | ChiPSC12_ETV6_RUNX1_KI_1 | ChiPSC12_WT_1 | HW8_ETV6_RUNX1_KI_1 | HW8_WT_1 | ChiPSC12_ETV6_RUNX1_KI_2 | ChiPSC12_WT_2 | ⋯ | HW8_ETV6_RUNX1_KI_3 | HW8_WT_3 | ChiPSC12_ETV6_RUNX1_KI_4 | ChiPSC12_WT_4 | HW8_ETV6_RUNX1_KI_4 | HW8_WT_4 | ChiPSC12_ETV6_RUNX1_KI_5 | ChiPSC12_WT_5 | HW8_ETV6_RUNX1_KI_5 | HW8_WT_5 |\n",
       "|---|---|---|---|---|---|---|---|---|---|---|---|---|---|---|---|---|---|---|---|---|---|\n",
       "| A1BG | 2993 | 1477 | 1863 | 1929 | 262 | 1041 | 326 | 884 | 836 | 243 | ⋯ | 1321 | 455 | 712 | 45 | 648 | 33 | 171 | 45 | 235 | 30 |\n",
       "| A1BG-AS1 |  482 |  216 |  237 |  244 |  58 |  264 |  57 | 206 | 132 |  28 | ⋯ |  167 |  76 | 154 |  5 |  97 |  7 |  39 |  4 |  22 | 11 |\n",
       "\n"
      ],
      "text/plain": [
       "         ChiPSC12_ETV6_RUNX1_KI_0 ChiPSC12_WT_0 HW8_ETV6_RUNX1_KI_0 HW8_WT_0\n",
       "A1BG     2993                     1477          1863                1929    \n",
       "A1BG-AS1  482                      216           237                 244    \n",
       "         ChiPSC12_ETV6_RUNX1_KI_1 ChiPSC12_WT_1 HW8_ETV6_RUNX1_KI_1 HW8_WT_1\n",
       "A1BG     262                      1041          326                 884     \n",
       "A1BG-AS1  58                       264           57                 206     \n",
       "         ChiPSC12_ETV6_RUNX1_KI_2 ChiPSC12_WT_2 ⋯ HW8_ETV6_RUNX1_KI_3 HW8_WT_3\n",
       "A1BG     836                      243           ⋯ 1321                455     \n",
       "A1BG-AS1 132                       28           ⋯  167                 76     \n",
       "         ChiPSC12_ETV6_RUNX1_KI_4 ChiPSC12_WT_4 HW8_ETV6_RUNX1_KI_4 HW8_WT_4\n",
       "A1BG     712                      45            648                 33      \n",
       "A1BG-AS1 154                       5             97                  7      \n",
       "         ChiPSC12_ETV6_RUNX1_KI_5 ChiPSC12_WT_5 HW8_ETV6_RUNX1_KI_5 HW8_WT_5\n",
       "A1BG     171                      45            235                 30      \n",
       "A1BG-AS1  39                       4             22                 11      "
      ]
     },
     "metadata": {},
     "output_type": "display_data"
    }
   ],
   "source": [
    "x = t(ad$X)\n",
    "head(x, n=2)"
   ]
  },
  {
   "cell_type": "code",
   "execution_count": 4,
   "id": "8797011a-007e-4a64-9929-74d432a50e9e",
   "metadata": {},
   "outputs": [
    {
     "data": {
      "text/html": [
       "<table class=\"dataframe\">\n",
       "<caption>A data.frame: 6 × 6</caption>\n",
       "<thead>\n",
       "\t<tr><th></th><th scope=col>sample</th><th scope=col>etv6_runx1</th><th scope=col>celline</th><th scope=col>leiden_res0_25</th><th scope=col>psbulk_n_cells</th><th scope=col>psbulk_counts</th></tr>\n",
       "\t<tr><th></th><th scope=col>&lt;fct&gt;</th><th scope=col>&lt;fct&gt;</th><th scope=col>&lt;fct&gt;</th><th scope=col>&lt;fct&gt;</th><th scope=col>&lt;dbl&gt;</th><th scope=col>&lt;dbl&gt;</th></tr>\n",
       "</thead>\n",
       "<tbody>\n",
       "\t<tr><th scope=row>ChiPSC12_ETV6_RUNX1_KI_0</th><td>ChiPSC12_ETV6_RUNX1_KI</td><td>KI</td><td>ChiPSC12</td><td>0</td><td>4319</td><td> 99488072</td></tr>\n",
       "\t<tr><th scope=row>ChiPSC12_WT_0</th><td>ChiPSC12_WT           </td><td>WT</td><td>ChiPSC12</td><td>0</td><td>1802</td><td> 42658232</td></tr>\n",
       "\t<tr><th scope=row>HW8_ETV6_RUNX1_KI_0</th><td>HW8_ETV6_RUNX1_KI     </td><td>KI</td><td>HW8     </td><td>0</td><td>3040</td><td> 67216960</td></tr>\n",
       "\t<tr><th scope=row>HW8_WT_0</th><td>HW8_WT                </td><td>WT</td><td>HW8     </td><td>0</td><td>2273</td><td> 57123564</td></tr>\n",
       "\t<tr><th scope=row>ChiPSC12_ETV6_RUNX1_KI_1</th><td>ChiPSC12_ETV6_RUNX1_KI</td><td>KI</td><td>ChiPSC12</td><td>1</td><td> 722</td><td> 19389934</td></tr>\n",
       "\t<tr><th scope=row>ChiPSC12_WT_1</th><td>ChiPSC12_WT           </td><td>WT</td><td>ChiPSC12</td><td>1</td><td>3511</td><td>101122712</td></tr>\n",
       "</tbody>\n",
       "</table>\n"
      ],
      "text/latex": [
       "A data.frame: 6 × 6\n",
       "\\begin{tabular}{r|llllll}\n",
       "  & sample & etv6\\_runx1 & celline & leiden\\_res0\\_25 & psbulk\\_n\\_cells & psbulk\\_counts\\\\\n",
       "  & <fct> & <fct> & <fct> & <fct> & <dbl> & <dbl>\\\\\n",
       "\\hline\n",
       "\tChiPSC12\\_ETV6\\_RUNX1\\_KI\\_0 & ChiPSC12\\_ETV6\\_RUNX1\\_KI & KI & ChiPSC12 & 0 & 4319 &  99488072\\\\\n",
       "\tChiPSC12\\_WT\\_0 & ChiPSC12\\_WT            & WT & ChiPSC12 & 0 & 1802 &  42658232\\\\\n",
       "\tHW8\\_ETV6\\_RUNX1\\_KI\\_0 & HW8\\_ETV6\\_RUNX1\\_KI      & KI & HW8      & 0 & 3040 &  67216960\\\\\n",
       "\tHW8\\_WT\\_0 & HW8\\_WT                 & WT & HW8      & 0 & 2273 &  57123564\\\\\n",
       "\tChiPSC12\\_ETV6\\_RUNX1\\_KI\\_1 & ChiPSC12\\_ETV6\\_RUNX1\\_KI & KI & ChiPSC12 & 1 &  722 &  19389934\\\\\n",
       "\tChiPSC12\\_WT\\_1 & ChiPSC12\\_WT            & WT & ChiPSC12 & 1 & 3511 & 101122712\\\\\n",
       "\\end{tabular}\n"
      ],
      "text/markdown": [
       "\n",
       "A data.frame: 6 × 6\n",
       "\n",
       "| <!--/--> | sample &lt;fct&gt; | etv6_runx1 &lt;fct&gt; | celline &lt;fct&gt; | leiden_res0_25 &lt;fct&gt; | psbulk_n_cells &lt;dbl&gt; | psbulk_counts &lt;dbl&gt; |\n",
       "|---|---|---|---|---|---|---|\n",
       "| ChiPSC12_ETV6_RUNX1_KI_0 | ChiPSC12_ETV6_RUNX1_KI | KI | ChiPSC12 | 0 | 4319 |  99488072 |\n",
       "| ChiPSC12_WT_0 | ChiPSC12_WT            | WT | ChiPSC12 | 0 | 1802 |  42658232 |\n",
       "| HW8_ETV6_RUNX1_KI_0 | HW8_ETV6_RUNX1_KI      | KI | HW8      | 0 | 3040 |  67216960 |\n",
       "| HW8_WT_0 | HW8_WT                 | WT | HW8      | 0 | 2273 |  57123564 |\n",
       "| ChiPSC12_ETV6_RUNX1_KI_1 | ChiPSC12_ETV6_RUNX1_KI | KI | ChiPSC12 | 1 |  722 |  19389934 |\n",
       "| ChiPSC12_WT_1 | ChiPSC12_WT            | WT | ChiPSC12 | 1 | 3511 | 101122712 |\n",
       "\n"
      ],
      "text/plain": [
       "                         sample                 etv6_runx1 celline \n",
       "ChiPSC12_ETV6_RUNX1_KI_0 ChiPSC12_ETV6_RUNX1_KI KI         ChiPSC12\n",
       "ChiPSC12_WT_0            ChiPSC12_WT            WT         ChiPSC12\n",
       "HW8_ETV6_RUNX1_KI_0      HW8_ETV6_RUNX1_KI      KI         HW8     \n",
       "HW8_WT_0                 HW8_WT                 WT         HW8     \n",
       "ChiPSC12_ETV6_RUNX1_KI_1 ChiPSC12_ETV6_RUNX1_KI KI         ChiPSC12\n",
       "ChiPSC12_WT_1            ChiPSC12_WT            WT         ChiPSC12\n",
       "                         leiden_res0_25 psbulk_n_cells psbulk_counts\n",
       "ChiPSC12_ETV6_RUNX1_KI_0 0              4319            99488072    \n",
       "ChiPSC12_WT_0            0              1802            42658232    \n",
       "HW8_ETV6_RUNX1_KI_0      0              3040            67216960    \n",
       "HW8_WT_0                 0              2273            57123564    \n",
       "ChiPSC12_ETV6_RUNX1_KI_1 1               722            19389934    \n",
       "ChiPSC12_WT_1            1              3511           101122712    "
      ]
     },
     "metadata": {},
     "output_type": "display_data"
    }
   ],
   "source": [
    "head(ad$obs)"
   ]
  },
  {
   "cell_type": "code",
   "execution_count": 5,
   "id": "3fae7af0-3e6e-4a88-a6f0-0468892c15c9",
   "metadata": {},
   "outputs": [
    {
     "data": {
      "text/html": [
       "<table class=\"dataframe\">\n",
       "<caption>A data.frame: 3 × 7</caption>\n",
       "<thead>\n",
       "\t<tr><th></th><th scope=col>sample</th><th scope=col>sampletype</th><th scope=col>etv6_runx1</th><th scope=col>celline</th><th scope=col>leiden_res0_25</th><th scope=col>psbulk_n_cells</th><th scope=col>psbulk_counts</th></tr>\n",
       "\t<tr><th></th><th scope=col>&lt;chr&gt;</th><th scope=col>&lt;fct&gt;</th><th scope=col>&lt;fct&gt;</th><th scope=col>&lt;fct&gt;</th><th scope=col>&lt;fct&gt;</th><th scope=col>&lt;dbl&gt;</th><th scope=col>&lt;dbl&gt;</th></tr>\n",
       "</thead>\n",
       "<tbody>\n",
       "\t<tr><th scope=row>1</th><td>ChiPSC12_ETV6_RUNX1_KI_0</td><td>ChiPSC12_ETV6_RUNX1_KI</td><td>KI</td><td>ChiPSC12</td><td>0</td><td>4319</td><td>99488072</td></tr>\n",
       "\t<tr><th scope=row>2</th><td>ChiPSC12_WT_0           </td><td>ChiPSC12_WT           </td><td>WT</td><td>ChiPSC12</td><td>0</td><td>1802</td><td>42658232</td></tr>\n",
       "\t<tr><th scope=row>3</th><td>HW8_ETV6_RUNX1_KI_0     </td><td>HW8_ETV6_RUNX1_KI     </td><td>KI</td><td>HW8     </td><td>0</td><td>3040</td><td>67216960</td></tr>\n",
       "</tbody>\n",
       "</table>\n"
      ],
      "text/latex": [
       "A data.frame: 3 × 7\n",
       "\\begin{tabular}{r|lllllll}\n",
       "  & sample & sampletype & etv6\\_runx1 & celline & leiden\\_res0\\_25 & psbulk\\_n\\_cells & psbulk\\_counts\\\\\n",
       "  & <chr> & <fct> & <fct> & <fct> & <fct> & <dbl> & <dbl>\\\\\n",
       "\\hline\n",
       "\t1 & ChiPSC12\\_ETV6\\_RUNX1\\_KI\\_0 & ChiPSC12\\_ETV6\\_RUNX1\\_KI & KI & ChiPSC12 & 0 & 4319 & 99488072\\\\\n",
       "\t2 & ChiPSC12\\_WT\\_0            & ChiPSC12\\_WT            & WT & ChiPSC12 & 0 & 1802 & 42658232\\\\\n",
       "\t3 & HW8\\_ETV6\\_RUNX1\\_KI\\_0      & HW8\\_ETV6\\_RUNX1\\_KI      & KI & HW8      & 0 & 3040 & 67216960\\\\\n",
       "\\end{tabular}\n"
      ],
      "text/markdown": [
       "\n",
       "A data.frame: 3 × 7\n",
       "\n",
       "| <!--/--> | sample &lt;chr&gt; | sampletype &lt;fct&gt; | etv6_runx1 &lt;fct&gt; | celline &lt;fct&gt; | leiden_res0_25 &lt;fct&gt; | psbulk_n_cells &lt;dbl&gt; | psbulk_counts &lt;dbl&gt; |\n",
       "|---|---|---|---|---|---|---|---|\n",
       "| 1 | ChiPSC12_ETV6_RUNX1_KI_0 | ChiPSC12_ETV6_RUNX1_KI | KI | ChiPSC12 | 0 | 4319 | 99488072 |\n",
       "| 2 | ChiPSC12_WT_0            | ChiPSC12_WT            | WT | ChiPSC12 | 0 | 1802 | 42658232 |\n",
       "| 3 | HW8_ETV6_RUNX1_KI_0      | HW8_ETV6_RUNX1_KI      | KI | HW8      | 0 | 3040 | 67216960 |\n",
       "\n"
      ],
      "text/plain": [
       "  sample                   sampletype             etv6_runx1 celline \n",
       "1 ChiPSC12_ETV6_RUNX1_KI_0 ChiPSC12_ETV6_RUNX1_KI KI         ChiPSC12\n",
       "2 ChiPSC12_WT_0            ChiPSC12_WT            WT         ChiPSC12\n",
       "3 HW8_ETV6_RUNX1_KI_0      HW8_ETV6_RUNX1_KI      KI         HW8     \n",
       "  leiden_res0_25 psbulk_n_cells psbulk_counts\n",
       "1 0              4319           99488072     \n",
       "2 0              1802           42658232     \n",
       "3 0              3040           67216960     "
      ]
     },
     "metadata": {},
     "output_type": "display_data"
    }
   ],
   "source": [
    "sampleinfo = ad$obs %>%\n",
    "rename(sampletype = sample)%>%\n",
    "rownames_to_column(\"sample\") \n",
    "\n",
    "head(sampleinfo, n=3)"
   ]
  },
  {
   "cell_type": "code",
   "execution_count": 6,
   "id": "f03bccb0-cc9f-40dd-9ebf-21faf78e6345",
   "metadata": {},
   "outputs": [
    {
     "data": {
      "text/plain": [
       "\n",
       "TRUE \n",
       "  24 "
      ]
     },
     "metadata": {},
     "output_type": "display_data"
    }
   ],
   "source": [
    "table(colnames(x)==sampleinfo$sample)"
   ]
  },
  {
   "cell_type": "code",
   "execution_count": 7,
   "id": "de5d5e67-9a44-4d48-8497-b2f4fe582151",
   "metadata": {},
   "outputs": [],
   "source": [
    "y <- DGEList (counts =x, \n",
    "              group = sampleinfo$leiden_res0_25,\n",
    "              genes = rownames (x))"
   ]
  },
  {
   "cell_type": "code",
   "execution_count": 8,
   "id": "b9742d87-38bf-44d6-83da-cb6efcf29b55",
   "metadata": {},
   "outputs": [
    {
     "data": {
      "text/plain": [
       "     Min.   1st Qu.    Median      Mean   3rd Qu.      Max. \n",
       "  1115738  10384676  22331234  33104324  51316143 101122663 "
      ]
     },
     "metadata": {},
     "output_type": "display_data"
    }
   ],
   "source": [
    "summary(y$samples$lib.size)"
   ]
  },
  {
   "cell_type": "code",
   "execution_count": 9,
   "id": "8844558a-f0cf-4449-af1d-9a534807040f",
   "metadata": {},
   "outputs": [
    {
     "data": {
      "text/plain": [
       "keep.samples\n",
       "TRUE \n",
       "  24 "
      ]
     },
     "metadata": {},
     "output_type": "display_data"
    }
   ],
   "source": [
    "keep.samples <- y$samples$lib.size > 5e4\n",
    "table(keep.samples)"
   ]
  },
  {
   "cell_type": "code",
   "execution_count": 10,
   "id": "e0eeadb7-1fc1-4a80-9566-b393b576b196",
   "metadata": {},
   "outputs": [
    {
     "data": {
      "text/plain": [
       "keep.genes\n",
       "FALSE  TRUE \n",
       "13230 19908 "
      ]
     },
     "metadata": {},
     "output_type": "display_data"
    }
   ],
   "source": [
    "keep.genes <- filterByExpr(y, group=y$samples$leiden_res0_25)\n",
    "table(keep.genes)"
   ]
  },
  {
   "cell_type": "code",
   "execution_count": 11,
   "id": "cbd0945b-35ee-4903-bc31-03ec066fa665",
   "metadata": {},
   "outputs": [],
   "source": [
    "y <- y[keep.genes, , keep=FALSE]"
   ]
  },
  {
   "cell_type": "code",
   "execution_count": 12,
   "id": "be69d669-f922-4ec7-91c1-55a0146bbd7e",
   "metadata": {},
   "outputs": [
    {
     "data": {
      "text/html": [
       "<table class=\"dataframe\">\n",
       "<caption>A data.frame: 10 × 3</caption>\n",
       "<thead>\n",
       "\t<tr><th></th><th scope=col>group</th><th scope=col>lib.size</th><th scope=col>norm.factors</th></tr>\n",
       "\t<tr><th></th><th scope=col>&lt;fct&gt;</th><th scope=col>&lt;dbl&gt;</th><th scope=col>&lt;dbl&gt;</th></tr>\n",
       "</thead>\n",
       "<tbody>\n",
       "\t<tr><th scope=row>ChiPSC12_ETV6_RUNX1_KI_0</th><td>0</td><td> 99418363</td><td>0.8416191</td></tr>\n",
       "\t<tr><th scope=row>ChiPSC12_WT_0</th><td>0</td><td> 42630523</td><td>0.7969157</td></tr>\n",
       "\t<tr><th scope=row>HW8_ETV6_RUNX1_KI_0</th><td>0</td><td> 67174525</td><td>0.8308650</td></tr>\n",
       "\t<tr><th scope=row>HW8_WT_0</th><td>0</td><td> 57087289</td><td>0.8545873</td></tr>\n",
       "\t<tr><th scope=row>ChiPSC12_ETV6_RUNX1_KI_1</th><td>1</td><td> 19377269</td><td>1.1302345</td></tr>\n",
       "\t<tr><th scope=row>ChiPSC12_WT_1</th><td>1</td><td>101059458</td><td>1.0896259</td></tr>\n",
       "\t<tr><th scope=row>HW8_ETV6_RUNX1_KI_1</th><td>1</td><td> 23639259</td><td>1.1330990</td></tr>\n",
       "\t<tr><th scope=row>HW8_WT_1</th><td>1</td><td> 88874507</td><td>1.0970719</td></tr>\n",
       "\t<tr><th scope=row>ChiPSC12_ETV6_RUNX1_KI_2</th><td>2</td><td> 33679128</td><td>0.7874314</td></tr>\n",
       "\t<tr><th scope=row>ChiPSC12_WT_2</th><td>2</td><td>  9125309</td><td>0.6490274</td></tr>\n",
       "</tbody>\n",
       "</table>\n"
      ],
      "text/latex": [
       "A data.frame: 10 × 3\n",
       "\\begin{tabular}{r|lll}\n",
       "  & group & lib.size & norm.factors\\\\\n",
       "  & <fct> & <dbl> & <dbl>\\\\\n",
       "\\hline\n",
       "\tChiPSC12\\_ETV6\\_RUNX1\\_KI\\_0 & 0 &  99418363 & 0.8416191\\\\\n",
       "\tChiPSC12\\_WT\\_0 & 0 &  42630523 & 0.7969157\\\\\n",
       "\tHW8\\_ETV6\\_RUNX1\\_KI\\_0 & 0 &  67174525 & 0.8308650\\\\\n",
       "\tHW8\\_WT\\_0 & 0 &  57087289 & 0.8545873\\\\\n",
       "\tChiPSC12\\_ETV6\\_RUNX1\\_KI\\_1 & 1 &  19377269 & 1.1302345\\\\\n",
       "\tChiPSC12\\_WT\\_1 & 1 & 101059458 & 1.0896259\\\\\n",
       "\tHW8\\_ETV6\\_RUNX1\\_KI\\_1 & 1 &  23639259 & 1.1330990\\\\\n",
       "\tHW8\\_WT\\_1 & 1 &  88874507 & 1.0970719\\\\\n",
       "\tChiPSC12\\_ETV6\\_RUNX1\\_KI\\_2 & 2 &  33679128 & 0.7874314\\\\\n",
       "\tChiPSC12\\_WT\\_2 & 2 &   9125309 & 0.6490274\\\\\n",
       "\\end{tabular}\n"
      ],
      "text/markdown": [
       "\n",
       "A data.frame: 10 × 3\n",
       "\n",
       "| <!--/--> | group &lt;fct&gt; | lib.size &lt;dbl&gt; | norm.factors &lt;dbl&gt; |\n",
       "|---|---|---|---|\n",
       "| ChiPSC12_ETV6_RUNX1_KI_0 | 0 |  99418363 | 0.8416191 |\n",
       "| ChiPSC12_WT_0 | 0 |  42630523 | 0.7969157 |\n",
       "| HW8_ETV6_RUNX1_KI_0 | 0 |  67174525 | 0.8308650 |\n",
       "| HW8_WT_0 | 0 |  57087289 | 0.8545873 |\n",
       "| ChiPSC12_ETV6_RUNX1_KI_1 | 1 |  19377269 | 1.1302345 |\n",
       "| ChiPSC12_WT_1 | 1 | 101059458 | 1.0896259 |\n",
       "| HW8_ETV6_RUNX1_KI_1 | 1 |  23639259 | 1.1330990 |\n",
       "| HW8_WT_1 | 1 |  88874507 | 1.0970719 |\n",
       "| ChiPSC12_ETV6_RUNX1_KI_2 | 2 |  33679128 | 0.7874314 |\n",
       "| ChiPSC12_WT_2 | 2 |   9125309 | 0.6490274 |\n",
       "\n"
      ],
      "text/plain": [
       "                         group lib.size  norm.factors\n",
       "ChiPSC12_ETV6_RUNX1_KI_0 0      99418363 0.8416191   \n",
       "ChiPSC12_WT_0            0      42630523 0.7969157   \n",
       "HW8_ETV6_RUNX1_KI_0      0      67174525 0.8308650   \n",
       "HW8_WT_0                 0      57087289 0.8545873   \n",
       "ChiPSC12_ETV6_RUNX1_KI_1 1      19377269 1.1302345   \n",
       "ChiPSC12_WT_1            1     101059458 1.0896259   \n",
       "HW8_ETV6_RUNX1_KI_1      1      23639259 1.1330990   \n",
       "HW8_WT_1                 1      88874507 1.0970719   \n",
       "ChiPSC12_ETV6_RUNX1_KI_2 2      33679128 0.7874314   \n",
       "ChiPSC12_WT_2            2       9125309 0.6490274   "
      ]
     },
     "metadata": {},
     "output_type": "display_data"
    }
   ],
   "source": [
    "y <- normLibSizes(y)\n",
    "head(y$samples, n=10L)"
   ]
  },
  {
   "cell_type": "code",
   "execution_count": 13,
   "id": "c6baa1e1-2a48-4d23-b9d9-5e8d750440ba",
   "metadata": {},
   "outputs": [
    {
     "data": {
      "text/html": [
       "0.649027445036267"
      ],
      "text/latex": [
       "0.649027445036267"
      ],
      "text/markdown": [
       "0.649027445036267"
      ],
      "text/plain": [
       "[1] 0.6490274"
      ]
     },
     "metadata": {},
     "output_type": "display_data"
    }
   ],
   "source": [
    "min(y$samples$norm.factors)"
   ]
  },
  {
   "cell_type": "code",
   "execution_count": 14,
   "id": "a9910ca1-0cfb-46f4-a949-ac6590407be1",
   "metadata": {},
   "outputs": [
    {
     "data": {
      "text/html": [
       "1.19523938595775"
      ],
      "text/latex": [
       "1.19523938595775"
      ],
      "text/markdown": [
       "1.19523938595775"
      ],
      "text/plain": [
       "[1] 1.195239"
      ]
     },
     "metadata": {},
     "output_type": "display_data"
    }
   ],
   "source": [
    "max(y$samples$norm.factors)"
   ]
  },
  {
   "cell_type": "code",
   "execution_count": 15,
   "id": "a5018ef7-02a6-4f97-94bd-3470afb80092",
   "metadata": {},
   "outputs": [
    {
     "data": {
      "text/html": [
       "<table class=\"dataframe\">\n",
       "<caption>A data.frame: 6 × 3</caption>\n",
       "<thead>\n",
       "\t<tr><th></th><th scope=col>group</th><th scope=col>lib.size</th><th scope=col>norm.factors</th></tr>\n",
       "\t<tr><th></th><th scope=col>&lt;fct&gt;</th><th scope=col>&lt;dbl&gt;</th><th scope=col>&lt;dbl&gt;</th></tr>\n",
       "</thead>\n",
       "<tbody>\n",
       "\t<tr><th scope=row>ChiPSC12_WT_2</th><td>2</td><td> 9125309</td><td>0.6490274</td></tr>\n",
       "\t<tr><th scope=row>HW8_WT_2</th><td>2</td><td>12342963</td><td>0.7015375</td></tr>\n",
       "\t<tr><th scope=row>HW8_ETV6_RUNX1_KI_2</th><td>2</td><td>20990095</td><td>0.7094991</td></tr>\n",
       "\t<tr><th scope=row>ChiPSC12_ETV6_RUNX1_KI_2</th><td>2</td><td>33679128</td><td>0.7874314</td></tr>\n",
       "\t<tr><th scope=row>ChiPSC12_WT_0</th><td>0</td><td>42630523</td><td>0.7969157</td></tr>\n",
       "\t<tr><th scope=row>HW8_ETV6_RUNX1_KI_0</th><td>0</td><td>67174525</td><td>0.8308650</td></tr>\n",
       "</tbody>\n",
       "</table>\n"
      ],
      "text/latex": [
       "A data.frame: 6 × 3\n",
       "\\begin{tabular}{r|lll}\n",
       "  & group & lib.size & norm.factors\\\\\n",
       "  & <fct> & <dbl> & <dbl>\\\\\n",
       "\\hline\n",
       "\tChiPSC12\\_WT\\_2 & 2 &  9125309 & 0.6490274\\\\\n",
       "\tHW8\\_WT\\_2 & 2 & 12342963 & 0.7015375\\\\\n",
       "\tHW8\\_ETV6\\_RUNX1\\_KI\\_2 & 2 & 20990095 & 0.7094991\\\\\n",
       "\tChiPSC12\\_ETV6\\_RUNX1\\_KI\\_2 & 2 & 33679128 & 0.7874314\\\\\n",
       "\tChiPSC12\\_WT\\_0 & 0 & 42630523 & 0.7969157\\\\\n",
       "\tHW8\\_ETV6\\_RUNX1\\_KI\\_0 & 0 & 67174525 & 0.8308650\\\\\n",
       "\\end{tabular}\n"
      ],
      "text/markdown": [
       "\n",
       "A data.frame: 6 × 3\n",
       "\n",
       "| <!--/--> | group &lt;fct&gt; | lib.size &lt;dbl&gt; | norm.factors &lt;dbl&gt; |\n",
       "|---|---|---|---|\n",
       "| ChiPSC12_WT_2 | 2 |  9125309 | 0.6490274 |\n",
       "| HW8_WT_2 | 2 | 12342963 | 0.7015375 |\n",
       "| HW8_ETV6_RUNX1_KI_2 | 2 | 20990095 | 0.7094991 |\n",
       "| ChiPSC12_ETV6_RUNX1_KI_2 | 2 | 33679128 | 0.7874314 |\n",
       "| ChiPSC12_WT_0 | 0 | 42630523 | 0.7969157 |\n",
       "| HW8_ETV6_RUNX1_KI_0 | 0 | 67174525 | 0.8308650 |\n",
       "\n"
      ],
      "text/plain": [
       "                         group lib.size norm.factors\n",
       "ChiPSC12_WT_2            2      9125309 0.6490274   \n",
       "HW8_WT_2                 2     12342963 0.7015375   \n",
       "HW8_ETV6_RUNX1_KI_2      2     20990095 0.7094991   \n",
       "ChiPSC12_ETV6_RUNX1_KI_2 2     33679128 0.7874314   \n",
       "ChiPSC12_WT_0            0     42630523 0.7969157   \n",
       "HW8_ETV6_RUNX1_KI_0      0     67174525 0.8308650   "
      ]
     },
     "metadata": {},
     "output_type": "display_data"
    }
   ],
   "source": [
    "y$samples %>%\n",
    "as.data.frame () %>%\n",
    "arrange((norm.factors))%>%\n",
    "head()"
   ]
  },
  {
   "cell_type": "code",
   "execution_count": 16,
   "id": "a326c893-a537-4537-80f2-2d85ccde2ec2",
   "metadata": {},
   "outputs": [
    {
     "data": {
      "text/html": [
       "<table class=\"dataframe\">\n",
       "<caption>A matrix: 6 × 24 of type dbl</caption>\n",
       "<thead>\n",
       "\t<tr><th></th><th scope=col>ChiPSC12_ETV6_RUNX1_KI_0</th><th scope=col>ChiPSC12_WT_0</th><th scope=col>HW8_ETV6_RUNX1_KI_0</th><th scope=col>HW8_WT_0</th><th scope=col>ChiPSC12_ETV6_RUNX1_KI_1</th><th scope=col>ChiPSC12_WT_1</th><th scope=col>HW8_ETV6_RUNX1_KI_1</th><th scope=col>HW8_WT_1</th><th scope=col>ChiPSC12_ETV6_RUNX1_KI_2</th><th scope=col>ChiPSC12_WT_2</th><th scope=col>⋯</th><th scope=col>HW8_ETV6_RUNX1_KI_3</th><th scope=col>HW8_WT_3</th><th scope=col>ChiPSC12_ETV6_RUNX1_KI_4</th><th scope=col>ChiPSC12_WT_4</th><th scope=col>HW8_ETV6_RUNX1_KI_4</th><th scope=col>HW8_WT_4</th><th scope=col>ChiPSC12_ETV6_RUNX1_KI_5</th><th scope=col>ChiPSC12_WT_5</th><th scope=col>HW8_ETV6_RUNX1_KI_5</th><th scope=col>HW8_WT_5</th></tr>\n",
       "</thead>\n",
       "<tbody>\n",
       "\t<tr><th scope=row>A1BG</th><td> 5.1631608</td><td> 5.4441677</td><td> 5.0635239</td><td> 5.3074693</td><td> 3.5878628</td><td> 3.2501625</td><td> 3.6125714</td><td> 3.1902441</td><td>4.9811457</td><td>5.3607360</td><td>⋯</td><td> 4.3406565</td><td> 4.9215858</td><td> 4.344328</td><td> 4.4942550</td><td> 4.4829437</td><td>4.6336722</td><td> 4.1506854</td><td> 4.579402</td><td> 4.2841786</td><td>4.4703869</td></tr>\n",
       "\t<tr><th scope=row>A1BG-AS1</th><td> 2.5414429</td><td> 2.6823822</td><td> 2.1068418</td><td> 2.3398715</td><td> 1.4379979</td><td> 1.2978359</td><td> 1.1303744</td><td> 1.1203063</td><td>2.3330008</td><td>2.2596703</td><td>⋯</td><td> 1.3867238</td><td> 2.3542338</td><td> 2.151032</td><td> 1.3553093</td><td> 1.7652441</td><td>2.4097725</td><td> 2.0349487</td><td> 1.124884</td><td> 0.9102784</td><td>3.0297855</td></tr>\n",
       "\t<tr><th scope=row>A2M</th><td> 0.9980298</td><td> 1.0238275</td><td> 0.7430209</td><td> 0.2491652</td><td> 0.3199835</td><td>-0.6591142</td><td>-0.4478186</td><td>-0.4788549</td><td>0.1595710</td><td>1.5516492</td><td>⋯</td><td> 4.1249628</td><td> 4.0192128</td><td> 1.808516</td><td>-4.0315432</td><td> 1.6903030</td><td>1.9309710</td><td> 1.9212642</td><td> 3.001801</td><td> 4.1155840</td><td>4.2081482</td></tr>\n",
       "\t<tr><th scope=row>A2M-AS1</th><td> 2.2896878</td><td> 1.6289943</td><td> 2.5257554</td><td> 1.8913143</td><td> 2.0759556</td><td> 1.3604053</td><td> 2.0199966</td><td> 1.0505846</td><td>1.4533186</td><td>0.3139033</td><td>⋯</td><td> 0.9688679</td><td> 0.9919815</td><td> 3.019821</td><td> 1.8308508</td><td> 3.0506960</td><td>3.1804462</td><td> 1.5653336</td><td> 1.124884</td><td> 1.4795089</td><td>1.1838378</td></tr>\n",
       "\t<tr><th scope=row>A2ML1</th><td>-1.7947356</td><td>-1.1719995</td><td>-1.2532986</td><td>-1.7031249</td><td>-2.7134128</td><td>-1.9382332</td><td>-2.0126610</td><td>-2.2176468</td><td>0.5423288</td><td>1.7815934</td><td>⋯</td><td>-1.1731963</td><td>-1.9402435</td><td>-1.122309</td><td>-0.8348982</td><td>-0.7924577</td><td>0.6433354</td><td>-0.7891028</td><td>-4.031543</td><td>-0.6445653</td><td>0.6181617</td></tr>\n",
       "\t<tr><th scope=row>A2ML1-AS1</th><td> 1.4657961</td><td> 0.8224361</td><td> 0.8615684</td><td> 0.7836311</td><td> 1.5769612</td><td> 1.6253660</td><td> 1.0017937</td><td> 1.3582094</td><td>2.9264975</td><td>3.1164089</td><td>⋯</td><td> 0.9230638</td><td> 0.8921698</td><td> 2.160242</td><td> 1.0419756</td><td> 1.5783814</td><td>1.6148152</td><td> 1.3479008</td><td> 1.124884</td><td> 0.7774612</td><td>0.6181617</td></tr>\n",
       "</tbody>\n",
       "</table>\n"
      ],
      "text/latex": [
       "A matrix: 6 × 24 of type dbl\n",
       "\\begin{tabular}{r|lllllllllllllllllllll}\n",
       "  & ChiPSC12\\_ETV6\\_RUNX1\\_KI\\_0 & ChiPSC12\\_WT\\_0 & HW8\\_ETV6\\_RUNX1\\_KI\\_0 & HW8\\_WT\\_0 & ChiPSC12\\_ETV6\\_RUNX1\\_KI\\_1 & ChiPSC12\\_WT\\_1 & HW8\\_ETV6\\_RUNX1\\_KI\\_1 & HW8\\_WT\\_1 & ChiPSC12\\_ETV6\\_RUNX1\\_KI\\_2 & ChiPSC12\\_WT\\_2 & ⋯ & HW8\\_ETV6\\_RUNX1\\_KI\\_3 & HW8\\_WT\\_3 & ChiPSC12\\_ETV6\\_RUNX1\\_KI\\_4 & ChiPSC12\\_WT\\_4 & HW8\\_ETV6\\_RUNX1\\_KI\\_4 & HW8\\_WT\\_4 & ChiPSC12\\_ETV6\\_RUNX1\\_KI\\_5 & ChiPSC12\\_WT\\_5 & HW8\\_ETV6\\_RUNX1\\_KI\\_5 & HW8\\_WT\\_5\\\\\n",
       "\\hline\n",
       "\tA1BG &  5.1631608 &  5.4441677 &  5.0635239 &  5.3074693 &  3.5878628 &  3.2501625 &  3.6125714 &  3.1902441 & 4.9811457 & 5.3607360 & ⋯ &  4.3406565 &  4.9215858 &  4.344328 &  4.4942550 &  4.4829437 & 4.6336722 &  4.1506854 &  4.579402 &  4.2841786 & 4.4703869\\\\\n",
       "\tA1BG-AS1 &  2.5414429 &  2.6823822 &  2.1068418 &  2.3398715 &  1.4379979 &  1.2978359 &  1.1303744 &  1.1203063 & 2.3330008 & 2.2596703 & ⋯ &  1.3867238 &  2.3542338 &  2.151032 &  1.3553093 &  1.7652441 & 2.4097725 &  2.0349487 &  1.124884 &  0.9102784 & 3.0297855\\\\\n",
       "\tA2M &  0.9980298 &  1.0238275 &  0.7430209 &  0.2491652 &  0.3199835 & -0.6591142 & -0.4478186 & -0.4788549 & 0.1595710 & 1.5516492 & ⋯ &  4.1249628 &  4.0192128 &  1.808516 & -4.0315432 &  1.6903030 & 1.9309710 &  1.9212642 &  3.001801 &  4.1155840 & 4.2081482\\\\\n",
       "\tA2M-AS1 &  2.2896878 &  1.6289943 &  2.5257554 &  1.8913143 &  2.0759556 &  1.3604053 &  2.0199966 &  1.0505846 & 1.4533186 & 0.3139033 & ⋯ &  0.9688679 &  0.9919815 &  3.019821 &  1.8308508 &  3.0506960 & 3.1804462 &  1.5653336 &  1.124884 &  1.4795089 & 1.1838378\\\\\n",
       "\tA2ML1 & -1.7947356 & -1.1719995 & -1.2532986 & -1.7031249 & -2.7134128 & -1.9382332 & -2.0126610 & -2.2176468 & 0.5423288 & 1.7815934 & ⋯ & -1.1731963 & -1.9402435 & -1.122309 & -0.8348982 & -0.7924577 & 0.6433354 & -0.7891028 & -4.031543 & -0.6445653 & 0.6181617\\\\\n",
       "\tA2ML1-AS1 &  1.4657961 &  0.8224361 &  0.8615684 &  0.7836311 &  1.5769612 &  1.6253660 &  1.0017937 &  1.3582094 & 2.9264975 & 3.1164089 & ⋯ &  0.9230638 &  0.8921698 &  2.160242 &  1.0419756 &  1.5783814 & 1.6148152 &  1.3479008 &  1.124884 &  0.7774612 & 0.6181617\\\\\n",
       "\\end{tabular}\n"
      ],
      "text/markdown": [
       "\n",
       "A matrix: 6 × 24 of type dbl\n",
       "\n",
       "| <!--/--> | ChiPSC12_ETV6_RUNX1_KI_0 | ChiPSC12_WT_0 | HW8_ETV6_RUNX1_KI_0 | HW8_WT_0 | ChiPSC12_ETV6_RUNX1_KI_1 | ChiPSC12_WT_1 | HW8_ETV6_RUNX1_KI_1 | HW8_WT_1 | ChiPSC12_ETV6_RUNX1_KI_2 | ChiPSC12_WT_2 | ⋯ | HW8_ETV6_RUNX1_KI_3 | HW8_WT_3 | ChiPSC12_ETV6_RUNX1_KI_4 | ChiPSC12_WT_4 | HW8_ETV6_RUNX1_KI_4 | HW8_WT_4 | ChiPSC12_ETV6_RUNX1_KI_5 | ChiPSC12_WT_5 | HW8_ETV6_RUNX1_KI_5 | HW8_WT_5 |\n",
       "|---|---|---|---|---|---|---|---|---|---|---|---|---|---|---|---|---|---|---|---|---|---|\n",
       "| A1BG |  5.1631608 |  5.4441677 |  5.0635239 |  5.3074693 |  3.5878628 |  3.2501625 |  3.6125714 |  3.1902441 | 4.9811457 | 5.3607360 | ⋯ |  4.3406565 |  4.9215858 |  4.344328 |  4.4942550 |  4.4829437 | 4.6336722 |  4.1506854 |  4.579402 |  4.2841786 | 4.4703869 |\n",
       "| A1BG-AS1 |  2.5414429 |  2.6823822 |  2.1068418 |  2.3398715 |  1.4379979 |  1.2978359 |  1.1303744 |  1.1203063 | 2.3330008 | 2.2596703 | ⋯ |  1.3867238 |  2.3542338 |  2.151032 |  1.3553093 |  1.7652441 | 2.4097725 |  2.0349487 |  1.124884 |  0.9102784 | 3.0297855 |\n",
       "| A2M |  0.9980298 |  1.0238275 |  0.7430209 |  0.2491652 |  0.3199835 | -0.6591142 | -0.4478186 | -0.4788549 | 0.1595710 | 1.5516492 | ⋯ |  4.1249628 |  4.0192128 |  1.808516 | -4.0315432 |  1.6903030 | 1.9309710 |  1.9212642 |  3.001801 |  4.1155840 | 4.2081482 |\n",
       "| A2M-AS1 |  2.2896878 |  1.6289943 |  2.5257554 |  1.8913143 |  2.0759556 |  1.3604053 |  2.0199966 |  1.0505846 | 1.4533186 | 0.3139033 | ⋯ |  0.9688679 |  0.9919815 |  3.019821 |  1.8308508 |  3.0506960 | 3.1804462 |  1.5653336 |  1.124884 |  1.4795089 | 1.1838378 |\n",
       "| A2ML1 | -1.7947356 | -1.1719995 | -1.2532986 | -1.7031249 | -2.7134128 | -1.9382332 | -2.0126610 | -2.2176468 | 0.5423288 | 1.7815934 | ⋯ | -1.1731963 | -1.9402435 | -1.122309 | -0.8348982 | -0.7924577 | 0.6433354 | -0.7891028 | -4.031543 | -0.6445653 | 0.6181617 |\n",
       "| A2ML1-AS1 |  1.4657961 |  0.8224361 |  0.8615684 |  0.7836311 |  1.5769612 |  1.6253660 |  1.0017937 |  1.3582094 | 2.9264975 | 3.1164089 | ⋯ |  0.9230638 |  0.8921698 |  2.160242 |  1.0419756 |  1.5783814 | 1.6148152 |  1.3479008 |  1.124884 |  0.7774612 | 0.6181617 |\n",
       "\n"
      ],
      "text/plain": [
       "          ChiPSC12_ETV6_RUNX1_KI_0 ChiPSC12_WT_0 HW8_ETV6_RUNX1_KI_0 HW8_WT_0  \n",
       "A1BG       5.1631608                5.4441677     5.0635239           5.3074693\n",
       "A1BG-AS1   2.5414429                2.6823822     2.1068418           2.3398715\n",
       "A2M        0.9980298                1.0238275     0.7430209           0.2491652\n",
       "A2M-AS1    2.2896878                1.6289943     2.5257554           1.8913143\n",
       "A2ML1     -1.7947356               -1.1719995    -1.2532986          -1.7031249\n",
       "A2ML1-AS1  1.4657961                0.8224361     0.8615684           0.7836311\n",
       "          ChiPSC12_ETV6_RUNX1_KI_1 ChiPSC12_WT_1 HW8_ETV6_RUNX1_KI_1 HW8_WT_1  \n",
       "A1BG       3.5878628                3.2501625     3.6125714           3.1902441\n",
       "A1BG-AS1   1.4379979                1.2978359     1.1303744           1.1203063\n",
       "A2M        0.3199835               -0.6591142    -0.4478186          -0.4788549\n",
       "A2M-AS1    2.0759556                1.3604053     2.0199966           1.0505846\n",
       "A2ML1     -2.7134128               -1.9382332    -2.0126610          -2.2176468\n",
       "A2ML1-AS1  1.5769612                1.6253660     1.0017937           1.3582094\n",
       "          ChiPSC12_ETV6_RUNX1_KI_2 ChiPSC12_WT_2 ⋯ HW8_ETV6_RUNX1_KI_3\n",
       "A1BG      4.9811457                5.3607360     ⋯  4.3406565         \n",
       "A1BG-AS1  2.3330008                2.2596703     ⋯  1.3867238         \n",
       "A2M       0.1595710                1.5516492     ⋯  4.1249628         \n",
       "A2M-AS1   1.4533186                0.3139033     ⋯  0.9688679         \n",
       "A2ML1     0.5423288                1.7815934     ⋯ -1.1731963         \n",
       "A2ML1-AS1 2.9264975                3.1164089     ⋯  0.9230638         \n",
       "          HW8_WT_3   ChiPSC12_ETV6_RUNX1_KI_4 ChiPSC12_WT_4 HW8_ETV6_RUNX1_KI_4\n",
       "A1BG       4.9215858  4.344328                 4.4942550     4.4829437         \n",
       "A1BG-AS1   2.3542338  2.151032                 1.3553093     1.7652441         \n",
       "A2M        4.0192128  1.808516                -4.0315432     1.6903030         \n",
       "A2M-AS1    0.9919815  3.019821                 1.8308508     3.0506960         \n",
       "A2ML1     -1.9402435 -1.122309                -0.8348982    -0.7924577         \n",
       "A2ML1-AS1  0.8921698  2.160242                 1.0419756     1.5783814         \n",
       "          HW8_WT_4  ChiPSC12_ETV6_RUNX1_KI_5 ChiPSC12_WT_5 HW8_ETV6_RUNX1_KI_5\n",
       "A1BG      4.6336722  4.1506854                4.579402      4.2841786         \n",
       "A1BG-AS1  2.4097725  2.0349487                1.124884      0.9102784         \n",
       "A2M       1.9309710  1.9212642                3.001801      4.1155840         \n",
       "A2M-AS1   3.1804462  1.5653336                1.124884      1.4795089         \n",
       "A2ML1     0.6433354 -0.7891028               -4.031543     -0.6445653         \n",
       "A2ML1-AS1 1.6148152  1.3479008                1.124884      0.7774612         \n",
       "          HW8_WT_5 \n",
       "A1BG      4.4703869\n",
       "A1BG-AS1  3.0297855\n",
       "A2M       4.2081482\n",
       "A2M-AS1   1.1838378\n",
       "A2ML1     0.6181617\n",
       "A2ML1-AS1 0.6181617"
      ]
     },
     "metadata": {},
     "output_type": "display_data"
    }
   ],
   "source": [
    "cpm <- cpm(y, normalized.lib.sizes=TRUE)\n",
    "logcpm <- cpm(y, log=TRUE,normalized.lib.sizes=TRUE)\n",
    "head (logcpm)"
   ]
  },
  {
   "cell_type": "code",
   "execution_count": 17,
   "id": "6294ce72-2192-468a-bb3e-478f783bd66a",
   "metadata": {},
   "outputs": [],
   "source": [
    "m = as.matrix(logcpm)\n",
    "o <- order(rowVars(m), decreasing = TRUE)\n",
    "cpm_ordered <- m[o,]\n",
    "\n",
    "vargenes = rownames(cpm_ordered[1:1000,])\n",
    "\n",
    "cpm_ordered = cpm_ordered[vargenes,]\n",
    "\n",
    "cpm_ordered_t = t(cpm_ordered)\n",
    "\n",
    "pca <- prcomp((cpm_ordered_t), scale. = TRUE)\n",
    "pca_df <- data.frame(pca$x[, 1], pca$x[, 2])"
   ]
  },
  {
   "cell_type": "code",
   "execution_count": 18,
   "id": "fa963222-ad49-4f23-8893-ca5a9ed99ac5",
   "metadata": {},
   "outputs": [],
   "source": [
    "# Extract variance explained by PC1 and PC2\n",
    "variance_pc1 <- round(summary(pca)$importance[\"Proportion of Variance\", \"PC1\"] * 100, 2)\n",
    "variance_pc2 <- round(summary(pca)$importance[\"Proportion of Variance\", \"PC2\"] * 100, 2)\n"
   ]
  },
  {
   "cell_type": "code",
   "execution_count": 19,
   "id": "9ec66770-1871-4707-8595-8d20bf905660",
   "metadata": {},
   "outputs": [],
   "source": [
    "colors_clu <- c(\n",
    "  \"0\" = \"#FF9E40\", # softer orange\n",
    "  \"1\" = \"#B00326\", # darker red\n",
    "  \"2\" = \"#B59A88\", # warm beige\n",
    "  \"3\" = \"#6325AF\", # darker violet\n",
    "  \"4\" = \"#367DF7\", # light red\n",
    "  \"5\" = \"#AB8CBA\"  # lighter violet\n",
    ")\n"
   ]
  },
  {
   "cell_type": "code",
   "execution_count": 20,
   "id": "1bc499be-8cb8-44ae-9459-d13db3c4bce1",
   "metadata": {},
   "outputs": [
    {
     "data": {
      "text/html": [
       "<table class=\"dataframe\">\n",
       "<caption>A data.frame: 2 × 7</caption>\n",
       "<thead>\n",
       "\t<tr><th></th><th scope=col>sample</th><th scope=col>sampletype</th><th scope=col>etv6_runx1</th><th scope=col>celline</th><th scope=col>leiden_res0_25</th><th scope=col>psbulk_n_cells</th><th scope=col>psbulk_counts</th></tr>\n",
       "\t<tr><th></th><th scope=col>&lt;chr&gt;</th><th scope=col>&lt;fct&gt;</th><th scope=col>&lt;fct&gt;</th><th scope=col>&lt;fct&gt;</th><th scope=col>&lt;fct&gt;</th><th scope=col>&lt;dbl&gt;</th><th scope=col>&lt;dbl&gt;</th></tr>\n",
       "</thead>\n",
       "<tbody>\n",
       "\t<tr><th scope=row>1</th><td>ChiPSC12_ETV6_RUNX1_KI_0</td><td>ChiPSC12_ETV6_RUNX1_KI</td><td>KI</td><td>ChiPSC12</td><td>0</td><td>4319</td><td>99488072</td></tr>\n",
       "\t<tr><th scope=row>2</th><td>ChiPSC12_WT_0           </td><td>ChiPSC12_WT           </td><td>WT</td><td>ChiPSC12</td><td>0</td><td>1802</td><td>42658232</td></tr>\n",
       "</tbody>\n",
       "</table>\n"
      ],
      "text/latex": [
       "A data.frame: 2 × 7\n",
       "\\begin{tabular}{r|lllllll}\n",
       "  & sample & sampletype & etv6\\_runx1 & celline & leiden\\_res0\\_25 & psbulk\\_n\\_cells & psbulk\\_counts\\\\\n",
       "  & <chr> & <fct> & <fct> & <fct> & <fct> & <dbl> & <dbl>\\\\\n",
       "\\hline\n",
       "\t1 & ChiPSC12\\_ETV6\\_RUNX1\\_KI\\_0 & ChiPSC12\\_ETV6\\_RUNX1\\_KI & KI & ChiPSC12 & 0 & 4319 & 99488072\\\\\n",
       "\t2 & ChiPSC12\\_WT\\_0            & ChiPSC12\\_WT            & WT & ChiPSC12 & 0 & 1802 & 42658232\\\\\n",
       "\\end{tabular}\n"
      ],
      "text/markdown": [
       "\n",
       "A data.frame: 2 × 7\n",
       "\n",
       "| <!--/--> | sample &lt;chr&gt; | sampletype &lt;fct&gt; | etv6_runx1 &lt;fct&gt; | celline &lt;fct&gt; | leiden_res0_25 &lt;fct&gt; | psbulk_n_cells &lt;dbl&gt; | psbulk_counts &lt;dbl&gt; |\n",
       "|---|---|---|---|---|---|---|---|\n",
       "| 1 | ChiPSC12_ETV6_RUNX1_KI_0 | ChiPSC12_ETV6_RUNX1_KI | KI | ChiPSC12 | 0 | 4319 | 99488072 |\n",
       "| 2 | ChiPSC12_WT_0            | ChiPSC12_WT            | WT | ChiPSC12 | 0 | 1802 | 42658232 |\n",
       "\n"
      ],
      "text/plain": [
       "  sample                   sampletype             etv6_runx1 celline \n",
       "1 ChiPSC12_ETV6_RUNX1_KI_0 ChiPSC12_ETV6_RUNX1_KI KI         ChiPSC12\n",
       "2 ChiPSC12_WT_0            ChiPSC12_WT            WT         ChiPSC12\n",
       "  leiden_res0_25 psbulk_n_cells psbulk_counts\n",
       "1 0              4319           99488072     \n",
       "2 0              1802           42658232     "
      ]
     },
     "metadata": {},
     "output_type": "display_data"
    }
   ],
   "source": [
    "head(sampleinfo, n=2)"
   ]
  },
  {
   "cell_type": "code",
   "execution_count": 21,
   "id": "68ae4226-5637-41f5-a2aa-e96a7b820840",
   "metadata": {},
   "outputs": [
    {
     "name": "stderr",
     "output_type": "stream",
     "text": [
      "Warning message:\n",
      "“\u001b[1m\u001b[22mThe `size` argument of `element_line()` is deprecated as of ggplot2 3.4.0.\n",
      "\u001b[36mℹ\u001b[39m Please use the `linewidth` argument instead.”\n"
     ]
    }
   ],
   "source": [
    "pca_gg = ggplot(pca_df, \n",
    "             aes(x = pca.x...1., \n",
    "                 y = pca.x...2.,\n",
    "                 color = sampleinfo$leiden_res0_25,\n",
    "                 shape = sampleinfo$etv6_runx1)) +  # Map shapes to etv6_runx1\n",
    "  geom_point(size = 5, alpha = 1) +\n",
    "  xlab(paste0(\"PC1 (\", variance_pc1, \"%)\")) +\n",
    "  ylab(paste0(\"PC2 (\", variance_pc2, \"%)\")) +\n",
    "  scale_color_manual(values = colors_clu) + \n",
    "  scale_shape_manual(values = c(\"WT\" = 17, \"KI\" = 16)) +  # Set shapes (17 = triangle, 16 = circle)\n",
    "  theme_classic(base_size = 21, base_family = \"sans\") +  \n",
    "  theme(aspect.ratio = 1, \n",
    "        axis.text = element_text(size = 22), \n",
    "        axis.title = element_text(size = 21)) +\n",
    "  labs(\n",
    "    colour = \"Cell type\",\n",
    "    shape = \"Modification\"  # Add legend for shapes\n",
    "  ) +\n",
    "  guides(color = guide_legend(title = \"Cell type\", \n",
    "                              override.aes = list(size = 2.7, alpha = 1))) +\n",
    "  theme(axis.title.x = element_text(vjust = -1)) +\n",
    "  theme(\n",
    "    plot.title = element_text(hjust = 0.5, size = 22, vjust = 0, face = \"bold\"),\n",
    "    plot.subtitle = element_text(hjust = 0.5, size = 21, vjust = 0),\n",
    "    legend.title = element_text(color = \"black\", size = 20, face = \"bold\"),\n",
    "    legend.text = element_text(color = \"black\", size = 20),\n",
    "    axis.line.x = element_line(size = 1),\n",
    "    axis.line.y = element_line(size = 1)) + \n",
    "  guides(colour = guide_legend(ncol = 2)) +\n",
    "  ggtitle(\"500 HVGs\")\n"
   ]
  },
  {
   "cell_type": "code",
   "execution_count": 22,
   "id": "732d6f65-ae0f-4025-b077-e5e8053f0b6f",
   "metadata": {},
   "outputs": [
    {
     "data": {
      "image/png": "[encoded data removed]",
      "text/plain": [
       "plot without title"
      ]
     },
     "metadata": {
      "image/png": {
       "height": 420,
       "width": 660
      }
     },
     "output_type": "display_data"
    }
   ],
   "source": [
    "fig (11,7)\n",
    "pca_gg"
   ]
  },
  {
   "cell_type": "code",
   "execution_count": 23,
   "id": "b14dcbe4-030f-4f88-8677-c5be88ce0128",
   "metadata": {},
   "outputs": [],
   "source": [
    "sampleinfo$leiden_res0_25 = factor (sampleinfo$leiden_res0_25)"
   ]
  },
  {
   "cell_type": "markdown",
   "id": "46f1bd68-2336-4038-8a47-ee31884084a6",
   "metadata": {},
   "source": [
    "## Design"
   ]
  },
  {
   "cell_type": "code",
   "execution_count": 24,
   "id": "1058af93-30f0-4f47-9d45-3e0a5bde8c99",
   "metadata": {},
   "outputs": [
    {
     "data": {
      "text/html": [
       "<table class=\"dataframe\">\n",
       "<caption>A data.frame: 6 × 3</caption>\n",
       "<thead>\n",
       "\t<tr><th></th><th scope=col>group</th><th scope=col>lib.size</th><th scope=col>norm.factors</th></tr>\n",
       "\t<tr><th></th><th scope=col>&lt;fct&gt;</th><th scope=col>&lt;dbl&gt;</th><th scope=col>&lt;dbl&gt;</th></tr>\n",
       "</thead>\n",
       "<tbody>\n",
       "\t<tr><th scope=row>ChiPSC12_ETV6_RUNX1_KI_0</th><td>0</td><td> 99418363</td><td>0.8416191</td></tr>\n",
       "\t<tr><th scope=row>ChiPSC12_WT_0</th><td>0</td><td> 42630523</td><td>0.7969157</td></tr>\n",
       "\t<tr><th scope=row>HW8_ETV6_RUNX1_KI_0</th><td>0</td><td> 67174525</td><td>0.8308650</td></tr>\n",
       "\t<tr><th scope=row>HW8_WT_0</th><td>0</td><td> 57087289</td><td>0.8545873</td></tr>\n",
       "\t<tr><th scope=row>ChiPSC12_ETV6_RUNX1_KI_1</th><td>1</td><td> 19377269</td><td>1.1302345</td></tr>\n",
       "\t<tr><th scope=row>ChiPSC12_WT_1</th><td>1</td><td>101059458</td><td>1.0896259</td></tr>\n",
       "</tbody>\n",
       "</table>\n"
      ],
      "text/latex": [
       "A data.frame: 6 × 3\n",
       "\\begin{tabular}{r|lll}\n",
       "  & group & lib.size & norm.factors\\\\\n",
       "  & <fct> & <dbl> & <dbl>\\\\\n",
       "\\hline\n",
       "\tChiPSC12\\_ETV6\\_RUNX1\\_KI\\_0 & 0 &  99418363 & 0.8416191\\\\\n",
       "\tChiPSC12\\_WT\\_0 & 0 &  42630523 & 0.7969157\\\\\n",
       "\tHW8\\_ETV6\\_RUNX1\\_KI\\_0 & 0 &  67174525 & 0.8308650\\\\\n",
       "\tHW8\\_WT\\_0 & 0 &  57087289 & 0.8545873\\\\\n",
       "\tChiPSC12\\_ETV6\\_RUNX1\\_KI\\_1 & 1 &  19377269 & 1.1302345\\\\\n",
       "\tChiPSC12\\_WT\\_1 & 1 & 101059458 & 1.0896259\\\\\n",
       "\\end{tabular}\n"
      ],
      "text/markdown": [
       "\n",
       "A data.frame: 6 × 3\n",
       "\n",
       "| <!--/--> | group &lt;fct&gt; | lib.size &lt;dbl&gt; | norm.factors &lt;dbl&gt; |\n",
       "|---|---|---|---|\n",
       "| ChiPSC12_ETV6_RUNX1_KI_0 | 0 |  99418363 | 0.8416191 |\n",
       "| ChiPSC12_WT_0 | 0 |  42630523 | 0.7969157 |\n",
       "| HW8_ETV6_RUNX1_KI_0 | 0 |  67174525 | 0.8308650 |\n",
       "| HW8_WT_0 | 0 |  57087289 | 0.8545873 |\n",
       "| ChiPSC12_ETV6_RUNX1_KI_1 | 1 |  19377269 | 1.1302345 |\n",
       "| ChiPSC12_WT_1 | 1 | 101059458 | 1.0896259 |\n",
       "\n"
      ],
      "text/plain": [
       "                         group lib.size  norm.factors\n",
       "ChiPSC12_ETV6_RUNX1_KI_0 0      99418363 0.8416191   \n",
       "ChiPSC12_WT_0            0      42630523 0.7969157   \n",
       "HW8_ETV6_RUNX1_KI_0      0      67174525 0.8308650   \n",
       "HW8_WT_0                 0      57087289 0.8545873   \n",
       "ChiPSC12_ETV6_RUNX1_KI_1 1      19377269 1.1302345   \n",
       "ChiPSC12_WT_1            1     101059458 1.0896259   "
      ]
     },
     "metadata": {},
     "output_type": "display_data"
    }
   ],
   "source": [
    "head(y$samples)"
   ]
  },
  {
   "cell_type": "code",
   "execution_count": 25,
   "id": "0ae16ff9-0b68-430d-8a01-6b36a394bee0",
   "metadata": {},
   "outputs": [
    {
     "data": {
      "text/html": [
       "<table class=\"dataframe\">\n",
       "<caption>A data.frame: 2 × 7</caption>\n",
       "<thead>\n",
       "\t<tr><th></th><th scope=col>sample</th><th scope=col>sampletype</th><th scope=col>etv6_runx1</th><th scope=col>celline</th><th scope=col>leiden_res0_25</th><th scope=col>psbulk_n_cells</th><th scope=col>psbulk_counts</th></tr>\n",
       "\t<tr><th></th><th scope=col>&lt;chr&gt;</th><th scope=col>&lt;fct&gt;</th><th scope=col>&lt;fct&gt;</th><th scope=col>&lt;fct&gt;</th><th scope=col>&lt;fct&gt;</th><th scope=col>&lt;dbl&gt;</th><th scope=col>&lt;dbl&gt;</th></tr>\n",
       "</thead>\n",
       "<tbody>\n",
       "\t<tr><th scope=row>1</th><td>ChiPSC12_ETV6_RUNX1_KI_0</td><td>ChiPSC12_ETV6_RUNX1_KI</td><td>KI</td><td>ChiPSC12</td><td>0</td><td>4319</td><td>99488072</td></tr>\n",
       "\t<tr><th scope=row>2</th><td>ChiPSC12_WT_0           </td><td>ChiPSC12_WT           </td><td>WT</td><td>ChiPSC12</td><td>0</td><td>1802</td><td>42658232</td></tr>\n",
       "</tbody>\n",
       "</table>\n"
      ],
      "text/latex": [
       "A data.frame: 2 × 7\n",
       "\\begin{tabular}{r|lllllll}\n",
       "  & sample & sampletype & etv6\\_runx1 & celline & leiden\\_res0\\_25 & psbulk\\_n\\_cells & psbulk\\_counts\\\\\n",
       "  & <chr> & <fct> & <fct> & <fct> & <fct> & <dbl> & <dbl>\\\\\n",
       "\\hline\n",
       "\t1 & ChiPSC12\\_ETV6\\_RUNX1\\_KI\\_0 & ChiPSC12\\_ETV6\\_RUNX1\\_KI & KI & ChiPSC12 & 0 & 4319 & 99488072\\\\\n",
       "\t2 & ChiPSC12\\_WT\\_0            & ChiPSC12\\_WT            & WT & ChiPSC12 & 0 & 1802 & 42658232\\\\\n",
       "\\end{tabular}\n"
      ],
      "text/markdown": [
       "\n",
       "A data.frame: 2 × 7\n",
       "\n",
       "| <!--/--> | sample &lt;chr&gt; | sampletype &lt;fct&gt; | etv6_runx1 &lt;fct&gt; | celline &lt;fct&gt; | leiden_res0_25 &lt;fct&gt; | psbulk_n_cells &lt;dbl&gt; | psbulk_counts &lt;dbl&gt; |\n",
       "|---|---|---|---|---|---|---|---|\n",
       "| 1 | ChiPSC12_ETV6_RUNX1_KI_0 | ChiPSC12_ETV6_RUNX1_KI | KI | ChiPSC12 | 0 | 4319 | 99488072 |\n",
       "| 2 | ChiPSC12_WT_0            | ChiPSC12_WT            | WT | ChiPSC12 | 0 | 1802 | 42658232 |\n",
       "\n"
      ],
      "text/plain": [
       "  sample                   sampletype             etv6_runx1 celline \n",
       "1 ChiPSC12_ETV6_RUNX1_KI_0 ChiPSC12_ETV6_RUNX1_KI KI         ChiPSC12\n",
       "2 ChiPSC12_WT_0            ChiPSC12_WT            WT         ChiPSC12\n",
       "  leiden_res0_25 psbulk_n_cells psbulk_counts\n",
       "1 0              4319           99488072     \n",
       "2 0              1802           42658232     "
      ]
     },
     "metadata": {},
     "output_type": "display_data"
    }
   ],
   "source": [
    "head(sampleinfo, n=2)"
   ]
  },
  {
   "cell_type": "code",
   "execution_count": 26,
   "id": "92fa98c3-6207-43bb-a86c-5aa62cd8d2e7",
   "metadata": {},
   "outputs": [],
   "source": [
    "celline <- factor(sampleinfo$celline)\n",
    "modif = factor(sampleinfo$etv6_runx1)\n",
    "cluster <- factor (sampleinfo$leiden_res0_25)"
   ]
  },
  {
   "cell_type": "code",
   "execution_count": 27,
   "id": "0af72df8-e15d-43f4-b790-a65fed6fa845",
   "metadata": {},
   "outputs": [],
   "source": [
    "design <- model.matrix(~ cluster + celline + modif)"
   ]
  },
  {
   "cell_type": "code",
   "execution_count": 28,
   "id": "a5f4a186-eabc-4470-87f9-b9ebaae931d2",
   "metadata": {},
   "outputs": [],
   "source": [
    "colnames(design) <- gsub(\"sample\", \"\", colnames(design))"
   ]
  },
  {
   "cell_type": "code",
   "execution_count": 29,
   "id": "015bbcde-f186-41de-a3fd-fcd14dc28565",
   "metadata": {},
   "outputs": [],
   "source": [
    "colnames(design)[1] <- \"Int\""
   ]
  },
  {
   "cell_type": "code",
   "execution_count": 30,
   "id": "3d8c6157-539f-430c-86d0-0c2cab496162",
   "metadata": {},
   "outputs": [
    {
     "data": {
      "text/html": [
       "<table class=\"dataframe\">\n",
       "<caption>A matrix: 6 × 8 of type dbl</caption>\n",
       "<thead>\n",
       "\t<tr><th></th><th scope=col>Int</th><th scope=col>cluster1</th><th scope=col>cluster2</th><th scope=col>cluster3</th><th scope=col>cluster4</th><th scope=col>cluster5</th><th scope=col>cellineHW8</th><th scope=col>modifWT</th></tr>\n",
       "</thead>\n",
       "<tbody>\n",
       "\t<tr><th scope=row>1</th><td>1</td><td>0</td><td>0</td><td>0</td><td>0</td><td>0</td><td>0</td><td>0</td></tr>\n",
       "\t<tr><th scope=row>2</th><td>1</td><td>0</td><td>0</td><td>0</td><td>0</td><td>0</td><td>0</td><td>1</td></tr>\n",
       "\t<tr><th scope=row>3</th><td>1</td><td>0</td><td>0</td><td>0</td><td>0</td><td>0</td><td>1</td><td>0</td></tr>\n",
       "\t<tr><th scope=row>4</th><td>1</td><td>0</td><td>0</td><td>0</td><td>0</td><td>0</td><td>1</td><td>1</td></tr>\n",
       "\t<tr><th scope=row>5</th><td>1</td><td>1</td><td>0</td><td>0</td><td>0</td><td>0</td><td>0</td><td>0</td></tr>\n",
       "\t<tr><th scope=row>6</th><td>1</td><td>1</td><td>0</td><td>0</td><td>0</td><td>0</td><td>0</td><td>1</td></tr>\n",
       "</tbody>\n",
       "</table>\n"
      ],
      "text/latex": [
       "A matrix: 6 × 8 of type dbl\n",
       "\\begin{tabular}{r|llllllll}\n",
       "  & Int & cluster1 & cluster2 & cluster3 & cluster4 & cluster5 & cellineHW8 & modifWT\\\\\n",
       "\\hline\n",
       "\t1 & 1 & 0 & 0 & 0 & 0 & 0 & 0 & 0\\\\\n",
       "\t2 & 1 & 0 & 0 & 0 & 0 & 0 & 0 & 1\\\\\n",
       "\t3 & 1 & 0 & 0 & 0 & 0 & 0 & 1 & 0\\\\\n",
       "\t4 & 1 & 0 & 0 & 0 & 0 & 0 & 1 & 1\\\\\n",
       "\t5 & 1 & 1 & 0 & 0 & 0 & 0 & 0 & 0\\\\\n",
       "\t6 & 1 & 1 & 0 & 0 & 0 & 0 & 0 & 1\\\\\n",
       "\\end{tabular}\n"
      ],
      "text/markdown": [
       "\n",
       "A matrix: 6 × 8 of type dbl\n",
       "\n",
       "| <!--/--> | Int | cluster1 | cluster2 | cluster3 | cluster4 | cluster5 | cellineHW8 | modifWT |\n",
       "|---|---|---|---|---|---|---|---|---|\n",
       "| 1 | 1 | 0 | 0 | 0 | 0 | 0 | 0 | 0 |\n",
       "| 2 | 1 | 0 | 0 | 0 | 0 | 0 | 0 | 1 |\n",
       "| 3 | 1 | 0 | 0 | 0 | 0 | 0 | 1 | 0 |\n",
       "| 4 | 1 | 0 | 0 | 0 | 0 | 0 | 1 | 1 |\n",
       "| 5 | 1 | 1 | 0 | 0 | 0 | 0 | 0 | 0 |\n",
       "| 6 | 1 | 1 | 0 | 0 | 0 | 0 | 0 | 1 |\n",
       "\n"
      ],
      "text/plain": [
       "  Int cluster1 cluster2 cluster3 cluster4 cluster5 cellineHW8 modifWT\n",
       "1 1   0        0        0        0        0        0          0      \n",
       "2 1   0        0        0        0        0        0          1      \n",
       "3 1   0        0        0        0        0        1          0      \n",
       "4 1   0        0        0        0        0        1          1      \n",
       "5 1   1        0        0        0        0        0          0      \n",
       "6 1   1        0        0        0        0        0          1      "
      ]
     },
     "metadata": {},
     "output_type": "display_data"
    }
   ],
   "source": [
    "head(design)"
   ]
  },
  {
   "cell_type": "code",
   "execution_count": 31,
   "id": "734fddf9-e54e-42e1-ae12-bb9eb4a4be5e",
   "metadata": {},
   "outputs": [
    {
     "data": {
      "image/png": "[encoded data removed]",
      "text/plain": [
       "Plot with title “MDS”"
      ]
     },
     "metadata": {
      "image/png": {
       "height": 360,
       "width": 360
      }
     },
     "output_type": "display_data"
    }
   ],
   "source": [
    "fig(6,6)\n",
    "plotMDS(y, pch=16, col=c(2:9)[cluster], main=\"MDS\")"
   ]
  },
  {
   "cell_type": "code",
   "execution_count": 32,
   "id": "90e42581-62d0-4ebb-a62a-632d8a16cb09",
   "metadata": {},
   "outputs": [
    {
     "data": {
      "text/html": [
       "0.0493483352755269"
      ],
      "text/latex": [
       "0.0493483352755269"
      ],
      "text/markdown": [
       "0.0493483352755269"
      ],
      "text/plain": [
       "[1] 0.04934834"
      ]
     },
     "metadata": {},
     "output_type": "display_data"
    }
   ],
   "source": [
    "y <- estimateDisp(y, design, robust=TRUE)\n",
    "y$common.dispersion"
   ]
  },
  {
   "cell_type": "code",
   "execution_count": 33,
   "id": "3c3a2b3a-392a-4b10-bb9f-63c61d7bef03",
   "metadata": {},
   "outputs": [
    {
     "data": {
      "image/png": "[encoded data removed]",
      "text/plain": [
       "plot without title"
      ]
     },
     "metadata": {
      "image/png": {
       "height": 360,
       "width": 360
      }
     },
     "output_type": "display_data"
    }
   ],
   "source": [
    "plotBCV(y)"
   ]
  },
  {
   "cell_type": "code",
   "execution_count": 34,
   "id": "acadee82-4cf6-41ea-8b8a-2e9da666254d",
   "metadata": {},
   "outputs": [],
   "source": [
    "fit <- glmQLFit(y, design, robust=TRUE)"
   ]
  },
  {
   "cell_type": "code",
   "execution_count": 35,
   "id": "18fd1b7d-1698-4678-b006-74cbf54f1095",
   "metadata": {},
   "outputs": [
    {
     "data": {
      "image/png": "[encoded data removed]",
      "text/plain": [
       "plot without title"
      ]
     },
     "metadata": {
      "image/png": {
       "height": 360,
       "width": 360
      }
     },
     "output_type": "display_data"
    }
   ],
   "source": [
    "plotQLDisp(fit)"
   ]
  },
  {
   "cell_type": "markdown",
   "id": "0ba908cb-23b8-4500-a56e-cd066451c06b",
   "metadata": {},
   "source": [
    "## Marker genes identification"
   ]
  },
  {
   "cell_type": "code",
   "execution_count": 36,
   "id": "a0086760-aac0-43c7-b6a6-9552ba48e566",
   "metadata": {},
   "outputs": [
    {
     "data": {
      "text/html": [
       "6"
      ],
      "text/latex": [
       "6"
      ],
      "text/markdown": [
       "6"
      ],
      "text/plain": [
       "[1] 6"
      ]
     },
     "metadata": {},
     "output_type": "display_data"
    }
   ],
   "source": [
    "ncls <- nlevels(cluster)\n",
    "ncls"
   ]
  },
  {
   "cell_type": "code",
   "execution_count": 37,
   "id": "0a52295f-1c8f-4504-bfc9-ded71ea7137a",
   "metadata": {},
   "outputs": [],
   "source": [
    "contr <- rbind( matrix(1/(1-ncls), ncls, ncls),\n",
    "               matrix(0, ncol(design)-ncls, ncls) )"
   ]
  },
  {
   "cell_type": "code",
   "execution_count": 38,
   "id": "f1110d93-a983-4781-b321-bfc3f8f3555a",
   "metadata": {},
   "outputs": [],
   "source": [
    "diag(contr) <- 1"
   ]
  },
  {
   "cell_type": "code",
   "execution_count": 39,
   "id": "60db5c8b-8cbb-4260-a999-1db19fa01939",
   "metadata": {},
   "outputs": [],
   "source": [
    "contr[1,] <- 0"
   ]
  },
  {
   "cell_type": "code",
   "execution_count": 40,
   "id": "c578f3cf-0f01-4751-853c-b1190d56f5dc",
   "metadata": {},
   "outputs": [],
   "source": [
    "rownames(contr) <- colnames(design)"
   ]
  },
  {
   "cell_type": "code",
   "execution_count": 41,
   "id": "cb5198c9-44f1-4d08-a6d1-ec02cb26fdd0",
   "metadata": {},
   "outputs": [],
   "source": [
    "colnames(contr) <- paste0(\"cluster\", levels(cluster))"
   ]
  },
  {
   "cell_type": "code",
   "execution_count": 42,
   "id": "0ee74283-79ae-4b07-b549-b17575d5f8ab",
   "metadata": {},
   "outputs": [
    {
     "data": {
      "text/html": [
       "<table class=\"dataframe\">\n",
       "<caption>A matrix: 8 × 6 of type dbl</caption>\n",
       "<thead>\n",
       "\t<tr><th></th><th scope=col>cluster0</th><th scope=col>cluster1</th><th scope=col>cluster2</th><th scope=col>cluster3</th><th scope=col>cluster4</th><th scope=col>cluster5</th></tr>\n",
       "</thead>\n",
       "<tbody>\n",
       "\t<tr><th scope=row>Int</th><td> 0.0</td><td> 0.0</td><td> 0.0</td><td> 0.0</td><td> 0.0</td><td> 0.0</td></tr>\n",
       "\t<tr><th scope=row>cluster1</th><td>-0.2</td><td> 1.0</td><td>-0.2</td><td>-0.2</td><td>-0.2</td><td>-0.2</td></tr>\n",
       "\t<tr><th scope=row>cluster2</th><td>-0.2</td><td>-0.2</td><td> 1.0</td><td>-0.2</td><td>-0.2</td><td>-0.2</td></tr>\n",
       "\t<tr><th scope=row>cluster3</th><td>-0.2</td><td>-0.2</td><td>-0.2</td><td> 1.0</td><td>-0.2</td><td>-0.2</td></tr>\n",
       "\t<tr><th scope=row>cluster4</th><td>-0.2</td><td>-0.2</td><td>-0.2</td><td>-0.2</td><td> 1.0</td><td>-0.2</td></tr>\n",
       "\t<tr><th scope=row>cluster5</th><td>-0.2</td><td>-0.2</td><td>-0.2</td><td>-0.2</td><td>-0.2</td><td> 1.0</td></tr>\n",
       "\t<tr><th scope=row>cellineHW8</th><td> 0.0</td><td> 0.0</td><td> 0.0</td><td> 0.0</td><td> 0.0</td><td> 0.0</td></tr>\n",
       "\t<tr><th scope=row>modifWT</th><td> 0.0</td><td> 0.0</td><td> 0.0</td><td> 0.0</td><td> 0.0</td><td> 0.0</td></tr>\n",
       "</tbody>\n",
       "</table>\n"
      ],
      "text/latex": [
       "A matrix: 8 × 6 of type dbl\n",
       "\\begin{tabular}{r|llllll}\n",
       "  & cluster0 & cluster1 & cluster2 & cluster3 & cluster4 & cluster5\\\\\n",
       "\\hline\n",
       "\tInt &  0.0 &  0.0 &  0.0 &  0.0 &  0.0 &  0.0\\\\\n",
       "\tcluster1 & -0.2 &  1.0 & -0.2 & -0.2 & -0.2 & -0.2\\\\\n",
       "\tcluster2 & -0.2 & -0.2 &  1.0 & -0.2 & -0.2 & -0.2\\\\\n",
       "\tcluster3 & -0.2 & -0.2 & -0.2 &  1.0 & -0.2 & -0.2\\\\\n",
       "\tcluster4 & -0.2 & -0.2 & -0.2 & -0.2 &  1.0 & -0.2\\\\\n",
       "\tcluster5 & -0.2 & -0.2 & -0.2 & -0.2 & -0.2 &  1.0\\\\\n",
       "\tcellineHW8 &  0.0 &  0.0 &  0.0 &  0.0 &  0.0 &  0.0\\\\\n",
       "\tmodifWT &  0.0 &  0.0 &  0.0 &  0.0 &  0.0 &  0.0\\\\\n",
       "\\end{tabular}\n"
      ],
      "text/markdown": [
       "\n",
       "A matrix: 8 × 6 of type dbl\n",
       "\n",
       "| <!--/--> | cluster0 | cluster1 | cluster2 | cluster3 | cluster4 | cluster5 |\n",
       "|---|---|---|---|---|---|---|\n",
       "| Int |  0.0 |  0.0 |  0.0 |  0.0 |  0.0 |  0.0 |\n",
       "| cluster1 | -0.2 |  1.0 | -0.2 | -0.2 | -0.2 | -0.2 |\n",
       "| cluster2 | -0.2 | -0.2 |  1.0 | -0.2 | -0.2 | -0.2 |\n",
       "| cluster3 | -0.2 | -0.2 | -0.2 |  1.0 | -0.2 | -0.2 |\n",
       "| cluster4 | -0.2 | -0.2 | -0.2 | -0.2 |  1.0 | -0.2 |\n",
       "| cluster5 | -0.2 | -0.2 | -0.2 | -0.2 | -0.2 |  1.0 |\n",
       "| cellineHW8 |  0.0 |  0.0 |  0.0 |  0.0 |  0.0 |  0.0 |\n",
       "| modifWT |  0.0 |  0.0 |  0.0 |  0.0 |  0.0 |  0.0 |\n",
       "\n"
      ],
      "text/plain": [
       "           cluster0 cluster1 cluster2 cluster3 cluster4 cluster5\n",
       "Int         0.0      0.0      0.0      0.0      0.0      0.0    \n",
       "cluster1   -0.2      1.0     -0.2     -0.2     -0.2     -0.2    \n",
       "cluster2   -0.2     -0.2      1.0     -0.2     -0.2     -0.2    \n",
       "cluster3   -0.2     -0.2     -0.2      1.0     -0.2     -0.2    \n",
       "cluster4   -0.2     -0.2     -0.2     -0.2      1.0     -0.2    \n",
       "cluster5   -0.2     -0.2     -0.2     -0.2     -0.2      1.0    \n",
       "cellineHW8  0.0      0.0      0.0      0.0      0.0      0.0    \n",
       "modifWT     0.0      0.0      0.0      0.0      0.0      0.0    "
      ]
     },
     "metadata": {},
     "output_type": "display_data"
    }
   ],
   "source": [
    "contr"
   ]
  },
  {
   "cell_type": "code",
   "execution_count": 43,
   "id": "3385b247-148f-4b18-b0c0-7921648f5efd",
   "metadata": {},
   "outputs": [],
   "source": [
    "qlf <- list()\n",
    "\n",
    "for(i in 1:ncls){\n",
    "    qlf[[i]] <- glmQLFTest(fit, contrast=contr[,i])\n",
    "    qlf[[i]]$comparison <- paste0(\"cluster\", \n",
    "                                  levels(cluster)[i], \"_vs_others\")\n",
    "    }"
   ]
  },
  {
   "cell_type": "code",
   "execution_count": 44,
   "id": "f4faf52f-ae67-409d-9722-872392d3ffe5",
   "metadata": {},
   "outputs": [
    {
     "data": {
      "text/html": [
       "<dl>\n",
       "\t<dt>$table</dt>\n",
       "\t\t<dd><table class=\"dataframe\">\n",
       "<caption>A data.frame: 10 × 6</caption>\n",
       "<thead>\n",
       "\t<tr><th></th><th scope=col>genes</th><th scope=col>logFC</th><th scope=col>logCPM</th><th scope=col>F</th><th scope=col>PValue</th><th scope=col>FDR</th></tr>\n",
       "\t<tr><th></th><th scope=col>&lt;chr&gt;</th><th scope=col>&lt;dbl&gt;</th><th scope=col>&lt;dbl&gt;</th><th scope=col>&lt;dbl&gt;</th><th scope=col>&lt;dbl&gt;</th><th scope=col>&lt;dbl&gt;</th></tr>\n",
       "</thead>\n",
       "<tbody>\n",
       "\t<tr><th scope=row>EHD3</th><td>EHD3      </td><td>2.747043</td><td>5.714364</td><td>1080.4932</td><td>2.863827e-19</td><td>3.979145e-15</td></tr>\n",
       "\t<tr><th scope=row>LINC01151</th><td>LINC01151 </td><td>4.849103</td><td>5.267067</td><td>1054.3724</td><td>3.997534e-19</td><td>3.979145e-15</td></tr>\n",
       "\t<tr><th scope=row>AC137932.2</th><td>AC137932.2</td><td>3.004785</td><td>5.330478</td><td>1001.8188</td><td>6.145749e-19</td><td>4.078319e-15</td></tr>\n",
       "\t<tr><th scope=row>PF4V1</th><td>PF4V1     </td><td>4.001663</td><td>6.297557</td><td> 947.0017</td><td>1.368564e-18</td><td>5.860260e-15</td></tr>\n",
       "\t<tr><th scope=row>PDE5A</th><td>PDE5A     </td><td>3.693334</td><td>8.491263</td><td> 921.1354</td><td>1.504172e-18</td><td>5.860260e-15</td></tr>\n",
       "\t<tr><th scope=row>ABLIM3</th><td>ABLIM3    </td><td>3.797341</td><td>6.597092</td><td> 902.4298</td><td>1.912878e-18</td><td>5.860260e-15</td></tr>\n",
       "\t<tr><th scope=row>PTCRA</th><td>PTCRA     </td><td>3.686313</td><td>6.887462</td><td> 892.7545</td><td>2.060570e-18</td><td>5.860260e-15</td></tr>\n",
       "\t<tr><th scope=row>BEND2</th><td>BEND2     </td><td>3.712894</td><td>4.575324</td><td> 844.8639</td><td>3.421473e-18</td><td>7.818635e-15</td></tr>\n",
       "\t<tr><th scope=row>F2RL3</th><td>F2RL3     </td><td>2.595984</td><td>6.445552</td><td> 834.4871</td><td>3.874228e-18</td><td>7.818635e-15</td></tr>\n",
       "\t<tr><th scope=row>C19orf33</th><td>C19orf33  </td><td>3.613913</td><td>6.144595</td><td> 834.5543</td><td>4.192793e-18</td><td>7.818635e-15</td></tr>\n",
       "</tbody>\n",
       "</table>\n",
       "</dd>\n",
       "\t<dt>$adjust.method</dt>\n",
       "\t\t<dd>'BH'</dd>\n",
       "\t<dt>$comparison</dt>\n",
       "\t\t<dd>'cluster0_vs_others'</dd>\n",
       "\t<dt>$test</dt>\n",
       "\t\t<dd>'glm'</dd>\n",
       "</dl>\n"
      ],
      "text/latex": [
       "\\begin{description}\n",
       "\\item[\\$table] A data.frame: 10 × 6\n",
       "\\begin{tabular}{r|llllll}\n",
       "  & genes & logFC & logCPM & F & PValue & FDR\\\\\n",
       "  & <chr> & <dbl> & <dbl> & <dbl> & <dbl> & <dbl>\\\\\n",
       "\\hline\n",
       "\tEHD3 & EHD3       & 2.747043 & 5.714364 & 1080.4932 & 2.863827e-19 & 3.979145e-15\\\\\n",
       "\tLINC01151 & LINC01151  & 4.849103 & 5.267067 & 1054.3724 & 3.997534e-19 & 3.979145e-15\\\\\n",
       "\tAC137932.2 & AC137932.2 & 3.004785 & 5.330478 & 1001.8188 & 6.145749e-19 & 4.078319e-15\\\\\n",
       "\tPF4V1 & PF4V1      & 4.001663 & 6.297557 &  947.0017 & 1.368564e-18 & 5.860260e-15\\\\\n",
       "\tPDE5A & PDE5A      & 3.693334 & 8.491263 &  921.1354 & 1.504172e-18 & 5.860260e-15\\\\\n",
       "\tABLIM3 & ABLIM3     & 3.797341 & 6.597092 &  902.4298 & 1.912878e-18 & 5.860260e-15\\\\\n",
       "\tPTCRA & PTCRA      & 3.686313 & 6.887462 &  892.7545 & 2.060570e-18 & 5.860260e-15\\\\\n",
       "\tBEND2 & BEND2      & 3.712894 & 4.575324 &  844.8639 & 3.421473e-18 & 7.818635e-15\\\\\n",
       "\tF2RL3 & F2RL3      & 2.595984 & 6.445552 &  834.4871 & 3.874228e-18 & 7.818635e-15\\\\\n",
       "\tC19orf33 & C19orf33   & 3.613913 & 6.144595 &  834.5543 & 4.192793e-18 & 7.818635e-15\\\\\n",
       "\\end{tabular}\n",
       "\n",
       "\\item[\\$adjust.method] 'BH'\n",
       "\\item[\\$comparison] 'cluster0\\_vs\\_others'\n",
       "\\item[\\$test] 'glm'\n",
       "\\end{description}\n"
      ],
      "text/markdown": [
       "$table\n",
       ":   \n",
       "A data.frame: 10 × 6\n",
       "\n",
       "| <!--/--> | genes &lt;chr&gt; | logFC &lt;dbl&gt; | logCPM &lt;dbl&gt; | F &lt;dbl&gt; | PValue &lt;dbl&gt; | FDR &lt;dbl&gt; |\n",
       "|---|---|---|---|---|---|---|\n",
       "| EHD3 | EHD3       | 2.747043 | 5.714364 | 1080.4932 | 2.863827e-19 | 3.979145e-15 |\n",
       "| LINC01151 | LINC01151  | 4.849103 | 5.267067 | 1054.3724 | 3.997534e-19 | 3.979145e-15 |\n",
       "| AC137932.2 | AC137932.2 | 3.004785 | 5.330478 | 1001.8188 | 6.145749e-19 | 4.078319e-15 |\n",
       "| PF4V1 | PF4V1      | 4.001663 | 6.297557 |  947.0017 | 1.368564e-18 | 5.860260e-15 |\n",
       "| PDE5A | PDE5A      | 3.693334 | 8.491263 |  921.1354 | 1.504172e-18 | 5.860260e-15 |\n",
       "| ABLIM3 | ABLIM3     | 3.797341 | 6.597092 |  902.4298 | 1.912878e-18 | 5.860260e-15 |\n",
       "| PTCRA | PTCRA      | 3.686313 | 6.887462 |  892.7545 | 2.060570e-18 | 5.860260e-15 |\n",
       "| BEND2 | BEND2      | 3.712894 | 4.575324 |  844.8639 | 3.421473e-18 | 7.818635e-15 |\n",
       "| F2RL3 | F2RL3      | 2.595984 | 6.445552 |  834.4871 | 3.874228e-18 | 7.818635e-15 |\n",
       "| C19orf33 | C19orf33   | 3.613913 | 6.144595 |  834.5543 | 4.192793e-18 | 7.818635e-15 |\n",
       "\n",
       "\n",
       "$adjust.method\n",
       ":   'BH'\n",
       "$comparison\n",
       ":   'cluster0_vs_others'\n",
       "$test\n",
       ":   'glm'\n",
       "\n",
       "\n"
      ],
      "text/plain": [
       "Coefficient:  cluster0_vs_others \n",
       "                genes    logFC   logCPM         F       PValue          FDR\n",
       "EHD3             EHD3 2.747043 5.714364 1080.4932 2.863827e-19 3.979145e-15\n",
       "LINC01151   LINC01151 4.849103 5.267067 1054.3724 3.997534e-19 3.979145e-15\n",
       "AC137932.2 AC137932.2 3.004785 5.330478 1001.8188 6.145749e-19 4.078319e-15\n",
       "PF4V1           PF4V1 4.001663 6.297557  947.0017 1.368564e-18 5.860260e-15\n",
       "PDE5A           PDE5A 3.693334 8.491263  921.1354 1.504172e-18 5.860260e-15\n",
       "ABLIM3         ABLIM3 3.797341 6.597092  902.4298 1.912878e-18 5.860260e-15\n",
       "PTCRA           PTCRA 3.686313 6.887462  892.7545 2.060570e-18 5.860260e-15\n",
       "BEND2           BEND2 3.712894 4.575324  844.8639 3.421473e-18 7.818635e-15\n",
       "F2RL3           F2RL3 2.595984 6.445552  834.4871 3.874228e-18 7.818635e-15\n",
       "C19orf33     C19orf33 3.613913 6.144595  834.5543 4.192793e-18 7.818635e-15"
      ]
     },
     "metadata": {},
     "output_type": "display_data"
    }
   ],
   "source": [
    "topTags(qlf[[1]], n=10L)"
   ]
  },
  {
   "cell_type": "code",
   "execution_count": 74,
   "id": "a56e4fa7-a4da-4d4e-849f-73c77e32c3bd",
   "metadata": {},
   "outputs": [],
   "source": [
    "result_list <- list()\n",
    "\n",
    "for (i in seq_along(qlf)) {\n",
    "    result <- as.data.frame(topTags(qlf[[i]], n = 100))\n",
    "    result$comparison <- qlf[[i]]$comparison\n",
    "    result_list[[i]] <- result\n",
    "}\n",
    "\n",
    "final_table <- do.call(rbind, result_list)\n",
    "\n",
    "write.csv(final_table, \"./data/top_100_markegenes_per_clu.csv\", row.names = FALSE)"
   ]
  },
  {
   "cell_type": "code",
   "execution_count": 45,
   "id": "de39b244-a6ed-462b-9b5e-0794bcd846e5",
   "metadata": {},
   "outputs": [
    {
     "data": {
      "text/html": [
       "<table class=\"dataframe\">\n",
       "<caption>A matrix: 3 × 6 of type dbl</caption>\n",
       "<thead>\n",
       "\t<tr><th></th><th scope=col>cluster0_vs_others</th><th scope=col>cluster1_vs_others</th><th scope=col>cluster2_vs_others</th><th scope=col>cluster3_vs_others</th><th scope=col>cluster4_vs_others</th><th scope=col>cluster5_vs_others</th></tr>\n",
       "</thead>\n",
       "<tbody>\n",
       "\t<tr><th scope=row>Down</th><td>5306</td><td>5261</td><td>6402</td><td>6709</td><td> 4352</td><td> 2122</td></tr>\n",
       "\t<tr><th scope=row>NotSig</th><td>7639</td><td>9782</td><td>5144</td><td>6076</td><td>12054</td><td>14736</td></tr>\n",
       "\t<tr><th scope=row>Up</th><td>6963</td><td>4865</td><td>8362</td><td>7123</td><td> 3502</td><td> 3050</td></tr>\n",
       "</tbody>\n",
       "</table>\n"
      ],
      "text/latex": [
       "A matrix: 3 × 6 of type dbl\n",
       "\\begin{tabular}{r|llllll}\n",
       "  & cluster0\\_vs\\_others & cluster1\\_vs\\_others & cluster2\\_vs\\_others & cluster3\\_vs\\_others & cluster4\\_vs\\_others & cluster5\\_vs\\_others\\\\\n",
       "\\hline\n",
       "\tDown & 5306 & 5261 & 6402 & 6709 &  4352 &  2122\\\\\n",
       "\tNotSig & 7639 & 9782 & 5144 & 6076 & 12054 & 14736\\\\\n",
       "\tUp & 6963 & 4865 & 8362 & 7123 &  3502 &  3050\\\\\n",
       "\\end{tabular}\n"
      ],
      "text/markdown": [
       "\n",
       "A matrix: 3 × 6 of type dbl\n",
       "\n",
       "| <!--/--> | cluster0_vs_others | cluster1_vs_others | cluster2_vs_others | cluster3_vs_others | cluster4_vs_others | cluster5_vs_others |\n",
       "|---|---|---|---|---|---|---|\n",
       "| Down | 5306 | 5261 | 6402 | 6709 |  4352 |  2122 |\n",
       "| NotSig | 7639 | 9782 | 5144 | 6076 | 12054 | 14736 |\n",
       "| Up | 6963 | 4865 | 8362 | 7123 |  3502 |  3050 |\n",
       "\n"
      ],
      "text/plain": [
       "       cluster0_vs_others cluster1_vs_others cluster2_vs_others\n",
       "Down   5306               5261               6402              \n",
       "NotSig 7639               9782               5144              \n",
       "Up     6963               4865               8362              \n",
       "       cluster3_vs_others cluster4_vs_others cluster5_vs_others\n",
       "Down   6709                4352               2122             \n",
       "NotSig 6076               12054              14736             \n",
       "Up     7123                3502               3050             "
      ]
     },
     "metadata": {},
     "output_type": "display_data"
    }
   ],
   "source": [
    "dt <- lapply(lapply(qlf, decideTests), summary)\n",
    "dt.all <- do.call(\"cbind\", dt)\n",
    "dt.all"
   ]
  },
  {
   "cell_type": "code",
   "execution_count": 47,
   "id": "2278613f-84e0-4483-83b9-871ba88ced31",
   "metadata": {},
   "outputs": [],
   "source": [
    "top <- 5"
   ]
  },
  {
   "cell_type": "code",
   "execution_count": 48,
   "id": "87cbc970-bd44-45b9-931e-a8adfc7aee11",
   "metadata": {},
   "outputs": [],
   "source": [
    "topMarkers <- list()\n",
    "for(i in 1:ncls) {\n",
    "    ord <- order(qlf[[i]]$table$PValue, decreasing=FALSE)\n",
    "    up <- qlf[[i]]$table$logFC[ord] > 0\n",
    "    topMarkers[[i]] <- rownames(y)[ord[up][1:top]]\n",
    "    }"
   ]
  },
  {
   "cell_type": "code",
   "execution_count": 49,
   "id": "7b0b9f61-98cd-4816-a3f2-6c4ad5d331d4",
   "metadata": {},
   "outputs": [
    {
     "data": {
      "text/html": [
       "<style>\n",
       ".list-inline {list-style: none; margin:0; padding: 0}\n",
       ".list-inline>li {display: inline-block}\n",
       ".list-inline>li:not(:last-child)::after {content: \"\\00b7\"; padding: 0 .5ex}\n",
       "</style>\n",
       "<ol class=list-inline><li>'EHD3'</li><li>'LINC01151'</li><li>'AC137932.2'</li><li>'PF4V1'</li><li>'PDE5A'</li><li>'KIF11'</li><li>'FBXO5'</li><li>'ESCO2'</li><li>'HIST1H4C'</li><li>'KIF2C'</li><li>'UPK1A-AS1'</li><li>'KCTD10'</li><li>'AC068279.2'</li><li>'PTCRA'</li><li>'LSP1'</li><li>'COPRS'</li><li>'CXorf21'</li><li>'ITGAL'</li><li>'CD180'</li><li>'ATP6V0A2'</li><li>'FREM1'</li><li>'ADGRE2'</li><li>'NOSTRIN'</li><li>'MARVELD1'</li><li>'S100A11'</li><li>'SNX10'</li><li>'P2RY6'</li></ol>\n"
      ],
      "text/latex": [
       "\\begin{enumerate*}\n",
       "\\item 'EHD3'\n",
       "\\item 'LINC01151'\n",
       "\\item 'AC137932.2'\n",
       "\\item 'PF4V1'\n",
       "\\item 'PDE5A'\n",
       "\\item 'KIF11'\n",
       "\\item 'FBXO5'\n",
       "\\item 'ESCO2'\n",
       "\\item 'HIST1H4C'\n",
       "\\item 'KIF2C'\n",
       "\\item 'UPK1A-AS1'\n",
       "\\item 'KCTD10'\n",
       "\\item 'AC068279.2'\n",
       "\\item 'PTCRA'\n",
       "\\item 'LSP1'\n",
       "\\item 'COPRS'\n",
       "\\item 'CXorf21'\n",
       "\\item 'ITGAL'\n",
       "\\item 'CD180'\n",
       "\\item 'ATP6V0A2'\n",
       "\\item 'FREM1'\n",
       "\\item 'ADGRE2'\n",
       "\\item 'NOSTRIN'\n",
       "\\item 'MARVELD1'\n",
       "\\item 'S100A11'\n",
       "\\item 'SNX10'\n",
       "\\item 'P2RY6'\n",
       "\\end{enumerate*}\n"
      ],
      "text/markdown": [
       "1. 'EHD3'\n",
       "2. 'LINC01151'\n",
       "3. 'AC137932.2'\n",
       "4. 'PF4V1'\n",
       "5. 'PDE5A'\n",
       "6. 'KIF11'\n",
       "7. 'FBXO5'\n",
       "8. 'ESCO2'\n",
       "9. 'HIST1H4C'\n",
       "10. 'KIF2C'\n",
       "11. 'UPK1A-AS1'\n",
       "12. 'KCTD10'\n",
       "13. 'AC068279.2'\n",
       "14. 'PTCRA'\n",
       "15. 'LSP1'\n",
       "16. 'COPRS'\n",
       "17. 'CXorf21'\n",
       "18. 'ITGAL'\n",
       "19. 'CD180'\n",
       "20. 'ATP6V0A2'\n",
       "21. 'FREM1'\n",
       "22. 'ADGRE2'\n",
       "23. 'NOSTRIN'\n",
       "24. 'MARVELD1'\n",
       "25. 'S100A11'\n",
       "26. 'SNX10'\n",
       "27. 'P2RY6'\n",
       "\n",
       "\n"
      ],
      "text/plain": [
       " [1] \"EHD3\"       \"LINC01151\"  \"AC137932.2\" \"PF4V1\"      \"PDE5A\"     \n",
       " [6] \"KIF11\"      \"FBXO5\"      \"ESCO2\"      \"HIST1H4C\"   \"KIF2C\"     \n",
       "[11] \"UPK1A-AS1\"  \"KCTD10\"     \"AC068279.2\" \"PTCRA\"      \"LSP1\"      \n",
       "[16] \"COPRS\"      \"CXorf21\"    \"ITGAL\"      \"CD180\"      \"ATP6V0A2\"  \n",
       "[21] \"FREM1\"      \"ADGRE2\"     \"NOSTRIN\"    \"MARVELD1\"   \"S100A11\"   \n",
       "[26] \"SNX10\"      \"P2RY6\"     "
      ]
     },
     "metadata": {},
     "output_type": "display_data"
    }
   ],
   "source": [
    "topMarkers <- unique(unlist(topMarkers))\n",
    "topMarkers"
   ]
  },
  {
   "cell_type": "code",
   "execution_count": 50,
   "id": "529b61e8-1dc6-4527-b205-86d419c84a1c",
   "metadata": {},
   "outputs": [
    {
     "name": "stderr",
     "output_type": "stream",
     "text": [
      "Loading required package: grid\n",
      "\n",
      "========================================\n",
      "ComplexHeatmap version 2.18.0\n",
      "Bioconductor page: http://bioconductor.org/packages/ComplexHeatmap/\n",
      "Github page: https://github.com/jokergoo/ComplexHeatmap\n",
      "Documentation: http://jokergoo.github.io/ComplexHeatmap-reference\n",
      "\n",
      "If you use it in published research, please cite either one:\n",
      "- Gu, Z. Complex Heatmap Visualization. iMeta 2022.\n",
      "- Gu, Z. Complex heatmaps reveal patterns and correlations in multidimensional \n",
      "    genomic data. Bioinformatics 2016.\n",
      "\n",
      "\n",
      "The new InteractiveComplexHeatmap package can directly export static \n",
      "complex heatmaps into an interactive Shiny app with zero effort. Have a try!\n",
      "\n",
      "This message can be suppressed by:\n",
      "  suppressPackageStartupMessages(library(ComplexHeatmap))\n",
      "========================================\n",
      "\n",
      "\n",
      "========================================\n",
      "circlize version 0.4.16\n",
      "CRAN page: https://cran.r-project.org/package=circlize\n",
      "Github page: https://github.com/jokergoo/circlize\n",
      "Documentation: https://jokergoo.github.io/circlize_book/book/\n",
      "\n",
      "If you use it in published research, please cite:\n",
      "Gu, Z. circlize implements and enhances circular visualization\n",
      "  in R. Bioinformatics 2014.\n",
      "\n",
      "This message can be suppressed by:\n",
      "  suppressPackageStartupMessages(library(circlize))\n",
      "========================================\n",
      "\n",
      "\n"
     ]
    }
   ],
   "source": [
    "library (ComplexHeatmap)\n",
    "library (circlize)\n",
    "library(RColorBrewer)\n",
    "\n",
    "col_fun = colorRamp2(c(0, 30, 60), \n",
    "                     rev(brewer.pal(n = 7, name = \"RdBu\")[c(1,4,7)]))"
   ]
  },
  {
   "cell_type": "code",
   "execution_count": 66,
   "id": "9e77534e-6a99-4fdd-8cb4-7156bfa8980f",
   "metadata": {},
   "outputs": [],
   "source": [
    "colors_clu <- c(\n",
    "  \"0\" = \"#FF9E40\", # softer orange\n",
    "  \"1\" = \"#B00326\", # darker red\n",
    "  \"2\" = \"#B59A88\", # warm beige\n",
    "  \"3\" = \"#6325AF\", # darker violet\n",
    "  \"4\" = \"#367DF7\", # light red\n",
    "  \"5\" = \"#AB8CBA\"  # lighter violet\n",
    ")\n",
    "\n",
    "colors_samples <- c(\n",
    "  'HW8_WT' = \"#006400\",  # Dark Green\n",
    "  'HW8_ETV6_RUNX1_KI' = \"#C2E699\",  # Light Lime-Green\n",
    "  'ChiPSC12_WT' = \"#1E3A8A\",  # Navy Blue\n",
    "  \"ChiPSC12_ETV6_RUNX1_KI\" = \"#B3DDF2\"  # Very Light Sky Blue\n",
    ")\n",
    "sampleinfo$sample = factor (sampleinfo$sampletype, levels = rev(c(\"HW8_WT\",\n",
    "                                                                     \"ChiPSC12_WT\",\n",
    "                                                                     \"HW8_ETV6_RUNX1_KI\",\n",
    "                                                                     \"ChiPSC12_ETV6_RUNX1_KI\")))\n",
    "ann <- data.frame(sampleinfo$leiden_res0_25, \n",
    "                  sampleinfo$sampletype\n",
    "                 )\n",
    "colnames(ann) <- c('cluster','sample') #essential\n",
    "\n",
    "colours = list(\"cluster\" = colors_clu, \n",
    "               \"sample\" = colors_samples\n",
    "               )\n",
    "\n",
    "#column_ha\n",
    "colAnn <- HeatmapAnnotation(df = ann,\n",
    "  which = 'col',\n",
    "  col = colours,\n",
    "  annotation_width = unit(c(1, 4), 'cm'),\n",
    "  gap = unit(1, 'mm'))"
   ]
  },
  {
   "cell_type": "code",
   "execution_count": 68,
   "id": "fefa26ee-79a9-4cc9-ab97-32a37e7366eb",
   "metadata": {},
   "outputs": [],
   "source": [
    "logcpm_CC = logcpm[topMarkers,]  #genes_selection\n",
    "logcpm_CC_t = t(logcpm_CC)\n",
    "#logCPM_sc <- (scale(t(logcpm_CC_t)))"
   ]
  },
  {
   "cell_type": "code",
   "execution_count": 69,
   "id": "99020233-d777-47f2-976f-6f711df51223",
   "metadata": {},
   "outputs": [
    {
     "data": {
      "image/png": "[encoded data removed]",
      "text/plain": [
       "plot without title"
      ]
     },
     "metadata": {
      "image/png": {
       "height": 480,
       "width": 570
      }
     },
     "output_type": "display_data"
    }
   ],
   "source": [
    "logCPM_sc <- t(scale(t(logcpm_CC))) #scale each row (each gene) to have mean zero and standard deviation one:for ML\n",
    "\n",
    "ht_scaledlogcpm <- Heatmap(logCPM_sc, \n",
    "                           name = \"z-score\",\n",
    "                           row_dend_reorder = FALSE,\n",
    "                           column_dend_reorder = FALSE,\n",
    "                           cluster_rows = FALSE, \n",
    "                           cluster_columns = FALSE,  # Ensure no clustering of columns\n",
    "                           clustering_distance_column = \"pearson\",\n",
    "                           top_annotation = colAnn,\n",
    "                           column_title_gp = gpar(fontsize = 13, family=\"Sans\"),\n",
    "                           row_title_gp = gpar(fontsize = 3, family=\"Sans\"),\n",
    "                           column_names_gp = gpar(fontsize=13, family=\"Sans\",  fontface = \"italic\"),\n",
    "                           row_names_gp = gpar(fontsize = 13, family=\"Sans\",  fontface = \"italic\"), \n",
    "                           show_row_dend = TRUE,\n",
    "                           show_column_dend = FALSE,  # Disable column dendrogram for exact order\n",
    "                           show_column_names = FALSE,\n",
    "                           col = colorRamp2(c(-2.1,-1.4,-0.7, 0, 0.7, 1.4, 2.1),\n",
    "                        #  col = colorRamp2(c(-3,-2,-1, 0, 1, 2, 3),\n",
    "                                            rev(c(\"#b2182b\",\"#ef8a62\",\"#fddbc7\",\"#f7f7f7\",\"#d1e5f0\",\"#67a9cf\",\"#2166ac\"))\n",
    "                                           ))\n",
    "\n",
    "# Plot the heatmap\n",
    "fig (9.5,8)\n",
    "draw(ht_scaledlogcpm)"
   ]
  },
  {
   "cell_type": "code",
   "execution_count": 70,
   "id": "e56a314a-8125-4826-b012-bfd1c78e6c5a",
   "metadata": {},
   "outputs": [
    {
     "data": {
      "text/html": [
       "<strong>png:</strong> 2"
      ],
      "text/latex": [
       "\\textbf{png:} 2"
      ],
      "text/markdown": [
       "**png:** 2"
      ],
      "text/plain": [
       "png \n",
       "  2 "
      ]
     },
     "metadata": {},
     "output_type": "display_data"
    }
   ],
   "source": [
    "pdf(\"./figs/topMarkers_Upreg_heatmap.pdf\",\n",
    "         width = 9.5, height = 8)\n",
    "ht_scaledlogcpm\n",
    "\n",
    "dev.off()"
   ]
  },
  {
   "cell_type": "code",
   "execution_count": 80,
   "id": "27702f73-d006-4163-8c2e-1daaabddeebd",
   "metadata": {},
   "outputs": [
    {
     "data": {
      "text/plain": [
       "R version 4.3.3 (2024-02-29)\n",
       "Platform: x86_64-conda-linux-gnu (64-bit)\n",
       "Running under: Rocky Linux 9.4 (Blue Onyx)\n",
       "\n",
       "Matrix products: default\n",
       "BLAS/LAPACK: /research/users/andreha/miniconda3/envs/kitten_and_lemur/lib/libopenblasp-r0.3.27.so;  LAPACK version 3.12.0\n",
       "\n",
       "locale:\n",
       " [1] LC_CTYPE=en_US.UTF-8       LC_NUMERIC=C              \n",
       " [3] LC_TIME=en_GB.utf8         LC_COLLATE=en_US.UTF-8    \n",
       " [5] LC_MONETARY=en_US.UTF-8    LC_MESSAGES=en_US.UTF-8   \n",
       " [7] LC_PAPER=en_US.UTF-8       LC_NAME=C                 \n",
       " [9] LC_ADDRESS=C               LC_TELEPHONE=C            \n",
       "[11] LC_MEASUREMENT=en_US.UTF-8 LC_IDENTIFICATION=C       \n",
       "\n",
       "time zone: Europe/Helsinki\n",
       "tzcode source: system (glibc)\n",
       "\n",
       "attached base packages:\n",
       "[1] grid      stats     graphics  grDevices utils     datasets  methods  \n",
       "[8] base     \n",
       "\n",
       "other attached packages:\n",
       " [1] RColorBrewer_1.1-3    circlize_0.4.16       ComplexHeatmap_2.18.0\n",
       " [4] knitr_1.47            scales_1.3.0          edgeR_4.0.16         \n",
       " [7] limma_3.58.1          anndata_0.7.5.4       matrixStats_1.3.0    \n",
       "[10] data.table_1.15.2     lubridate_1.9.3       forcats_1.0.0        \n",
       "[13] stringr_1.5.1         dplyr_1.1.4           purrr_1.0.2          \n",
       "[16] readr_2.1.5           tidyr_1.3.1           tibble_3.2.1         \n",
       "[19] ggplot2_3.5.1         tidyverse_2.0.0      \n",
       "\n",
       "loaded via a namespace (and not attached):\n",
       " [1] shape_1.4.6.1       gtable_0.3.5        rjson_0.2.21       \n",
       " [4] xfun_0.44           GlobalOptions_0.1.2 lattice_0.22-6     \n",
       " [7] tzdb_0.4.0          vctrs_0.6.5         tools_4.3.3        \n",
       "[10] generics_0.1.3      stats4_4.3.3        parallel_4.3.3     \n",
       "[13] fansi_1.0.6         cluster_2.1.6       pkgconfig_2.0.3    \n",
       "[16] Matrix_1.6-5        S4Vectors_0.40.2    assertthat_0.2.1   \n",
       "[19] uuid_1.2-0          lifecycle_1.0.4     compiler_4.3.3     \n",
       "[22] farver_2.1.2        statmod_1.5.0       munsell_0.5.1      \n",
       "[25] repr_1.1.7          codetools_0.2-20    clue_0.3-65        \n",
       "[28] htmltools_0.5.8.1   pillar_1.9.0        crayon_1.5.3       \n",
       "[31] iterators_1.0.14    foreach_1.5.2       tidyselect_1.2.1   \n",
       "[34] locfit_1.5-9.9      digest_0.6.35       stringi_1.8.4      \n",
       "[37] labeling_0.4.3      splines_4.3.3       rprojroot_2.0.4    \n",
       "[40] fastmap_1.2.0       here_1.0.1          colorspace_2.1-1   \n",
       "[43] cli_3.6.3           magrittr_2.0.3      base64enc_0.1-3    \n",
       "[46] utf8_1.2.4          IRdisplay_1.1       withr_3.0.1        \n",
       "[49] rappdirs_0.3.3      IRkernel_1.3.2      timechange_0.3.0   \n",
       "[52] reticulate_1.37.0   pbdZMQ_0.3-11       png_0.1-8          \n",
       "[55] GetoptLong_1.0.5    hms_1.1.3           evaluate_0.23      \n",
       "[58] IRanges_2.36.0      doParallel_1.0.17   rlang_1.1.4        \n",
       "[61] Rcpp_1.0.13         glue_1.7.0          BiocGenerics_0.48.1\n",
       "[64] jsonlite_1.8.8      R6_2.5.1           "
      ]
     },
     "metadata": {},
     "output_type": "display_data"
    }
   ],
   "source": [
    "sessionInfo()"
   ]
  },
  {
   "cell_type": "code",
   "execution_count": null,
   "id": "65604f26-780e-4f6d-b037-dd1074c7cd35",
   "metadata": {},
   "outputs": [],
   "source": []
  }
 ],
 "metadata": {
  "kernelspec": {
   "display_name": "R",
   "language": "R",
   "name": "ir"
  },
  "language_info": {
   "codemirror_mode": "r",
   "file_extension": ".r",
   "mimetype": "text/x-r-source",
   "name": "R",
   "pygments_lexer": "r",
   "version": "4.3.3"
  }
 },
 "nbformat": 4,
 "nbformat_minor": 5
}
